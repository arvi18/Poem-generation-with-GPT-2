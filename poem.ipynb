{
  "cells": [
    {
      "cell_type": "code",
      "execution_count": 1,
      "metadata": {
        "colab": {
          "base_uri": "https://localhost:8080/"
        },
        "id": "k0cMp8PSXT0U",
        "outputId": "6ad9ce41-38d2-4f99-df6e-430ebcff0577"
      },
      "outputs": [],
      "source": [
        "# !pip install fastai\n",
        "# !pip install transformers"
      ]
    },
    {
      "cell_type": "code",
      "execution_count": 2,
      "metadata": {
        "id": "2QvWLwJeWuZ8"
      },
      "outputs": [],
      "source": [
        "from fastai.text.all import *\n",
        "from transformers import GPT2LMHeadModel, GPT2TokenizerFast"
      ]
    },
    {
      "cell_type": "code",
      "execution_count": 3,
      "metadata": {
        "id": "ZRI3i9fNWuaC"
      },
      "outputs": [],
      "source": [
        "pretrained_weights = 'gpt2'\n",
        "tokenizer = GPT2TokenizerFast.from_pretrained(pretrained_weights)\n",
        "model = GPT2LMHeadModel.from_pretrained(pretrained_weights)"
      ]
    },
    {
      "cell_type": "code",
      "execution_count": 4,
      "metadata": {
        "colab": {
          "base_uri": "https://localhost:8080/"
        },
        "id": "JiVgeMXWWuaD",
        "outputId": "64aeb3b5-2693-41c4-92e8-7a6242abdfa1"
      },
      "outputs": [],
      "source": [
        "path = './poems'\n",
        "# from google.colab import drive\n",
        "# drive.mount('/content/drive')\n"
      ]
    },
    {
      "cell_type": "code",
      "execution_count": 5,
      "metadata": {
        "colab": {
          "base_uri": "https://localhost:8080/"
        },
        "id": "KzGBsFRFs9r_",
        "outputId": "13ab3420-7f5b-41fc-c0f0-44804cdecb25"
      },
      "outputs": [],
      "source": [
        "# path=\"drive/MyDrive/poem/poems\"\n",
        "# !ls drive/MyDrive/poem/poems"
      ]
    },
    {
      "cell_type": "code",
      "execution_count": 6,
      "metadata": {
        "colab": {
          "base_uri": "https://localhost:8080/"
        },
        "id": "bjrCnweAWuaE",
        "outputId": "467eaf50-ddcb-4af4-db66-bb659781d9df"
      },
      "outputs": [
        {
          "name": "stdout",
          "output_type": "stream",
          "text": [
            "There are 198 poems in the dataset\n"
          ]
        }
      ],
      "source": [
        "poems = get_text_files(path, folders = ['carol','haiku'])\n",
        "print(\"There are\",len(poems),\"poems in the dataset\")"
      ]
    },
    {
      "cell_type": "code",
      "execution_count": 7,
      "metadata": {
        "colab": {
          "base_uri": "https://localhost:8080/"
        },
        "id": "8LmPl11sWuaE",
        "outputId": "07304a35-f438-4140-d915-af7493cc842f"
      },
      "outputs": [
        {
          "name": "stdout",
          "output_type": "stream",
          "text": [
            "There are 100 ballads in the dataset\n"
          ]
        }
      ],
      "source": [
        "ballads = get_text_files(path, folders = ['ballad'])\n",
        "print(\"There are\",len(ballads),\"ballads in the dataset\")"
      ]
    },
    {
      "cell_type": "code",
      "execution_count": 8,
      "metadata": {
        "colab": {
          "base_uri": "https://localhost:8080/"
        },
        "id": "FzS93nTkWuaH",
        "outputId": "c7f3ebc9-fb9e-4966-c59a-9a44d2e939e3"
      },
      "outputs": [
        {
          "name": "stdout",
          "output_type": "stream",
          "text": [
            "Silent Night\n",
            "Holy Night\n",
            "Bombs in flight\n",
            "Birds big fright\n",
            "Men will fight\n",
            "For their right\n",
            "Putting might\n",
            "First in sight\n",
            "Jesus slight\n",
            "Small in height\n",
            "Has a bite\n",
            "Like a knight\n",
            "Angels not tight\n",
            "Fly like a kite\n",
            "Silent Night\n",
            "Holy Night\n"
          ]
        }
      ],
      "source": [
        "txt = poems[0].open().read(); #read the first file\n",
        "print(txt)"
      ]
    },
    {
      "cell_type": "markdown",
      "metadata": {
        "id": "nnbPDprwsbDw"
      },
      "source": [
        "## Prepare the data"
      ]
    },
    {
      "cell_type": "code",
      "execution_count": 9,
      "metadata": {
        "colab": {
          "base_uri": "https://localhost:8080/"
        },
        "id": "lVyyMkk8sbDz",
        "outputId": "c4db3eb1-da0a-418e-9e74-db74e33492a5"
      },
      "outputs": [
        {
          "data": {
            "text/plain": [
              "(#50) ['The burden of hard hitting. Slug away\\nLike Honus Wagner or like Tyrus Cobb.\\nElse fandom shouteth: \"Who said you could play?\\nBack to the jasper league, you minor slob!\"\\nSwat, hit, connect, line out, goet on the job.\\nElse you shall feel the brunt of fandom\\'s ire\\nBiff, bang it, clout it, hit it on the knob -\\nThis is the end of every fan\\'s desire.\\nThe burden of good pitching. Curved or straight.\\nOr in or out, or haply up or down,\\nTo puzzle him that standeth by the plate,\\nTo lessen, so to speak, his bat-renown:\\nLike Christy Mathewson or Miner Brown,\\nSo pitch that every man can but admire\\nAnd offer you the freedom of the town -\\nThis is the end of every fan\\'s desire.\\nThe burden of loud cheering. O the sounds!\\nThe tumult and the shouting from the throats\\nOf forty thousand at the Polo Grounds\\nSitting, ay, standing sans their hats and coats.\\nA mighty cheer that possibly denotes\\nThat Cub or Pirate fat is in the fire;\\nOr, as H. James would say, We\\'ve got their goats -\\nThis is the end of every fan\\'s desire.\\nThe burden of a pennant. O the hope,\\nThe tenuous hope, the hope that\\'s half a fear,\\nThe lengthy season and the boundless dope,\\nAnd the bromidic, \"Wait until next year.\"\\nO dread disgrace of trailing in the rear,\\nO Piece of Bunting, flying high and higher\\nThat next October it shall flutter here:\\nThis is the end of every fan\\'s desire.\\nENVOY\\nAh, Fans, let not the Quarry but the Chase\\nBe that to which most fondly we aspire!\\nFor us not Stake, but Game; not Goal, but Race -\\nTHIS is the end of every fan\\'s desire.','Some words are bullets\\nsome mouths resemble barrels\\ncertain tongues triggers','A Ballad of Burdens\\nThe burden of fair women. Vain delight,\\nAnd love self-slain in some sweet shameful way,\\nAnd sorrowful old age that comes by night\\nAs a thief comes that has no heart by day,\\nAnd change that finds fair cheeks and leaves them grey,\\nAnd weariness that keeps awake for hire,\\nAnd grief that says what pleasure used to say;\\nThis is the end of every man\\'s desire.\\nThe burden of bought kisses. This is sore,\\nA burden without fruit in childbearing;\\nBetween the nightfall and the dawn threescore,\\nThreescore between the dawn and evening.\\nThe shuddering in thy lips, the shuddering\\nIn thy sad eyelids tremulous like fire,\\nMakes love seem shameful and a wretched thing.\\nThis is the end of every man\\'s desire.\\nThe burden of sweet speeches. Nay, kneel down,\\nCover thy head, and weep; for verily\\nThese market-men that buy thy white and brown\\nIn the last days shall take no thought for thee.\\nIn the last days like earth thy face shall be,\\nYea, like sea-marsh made thick with brine and mire,\\nSad with sick leavings of the sterile sea.\\nThis is the end of every man\\'s desire.\\nThe burden of long living. Thou shalt fear\\nWaking, and sleeping mourn upon thy bed;\\nAnd say at night \"Would God the day were here,\"\\nAnd say at dawn \"Would God the day were dead.\"\\nWith weary days thou shalt be clothed and fed,\\nAnd wear remorse of heart for thine attire,\\nPain for thy girdle and sorrow upon thine head;\\nThis is the end of every man\\'s desire.\\nThe burden of bright colours. Thou shalt see\\nGold tarnished, and the grey above the green;\\nAnd as the thing thou seest thy face shall be,\\nAnd no more as the thing beforetime seen.\\nAnd thou shalt say of mercy \"It hath been,\"\\nAnd living, watch the old lips and loves expire,\\nAnd talking, tears shall take thy breath between;\\nThis is the end of every man\\'s desire.\\nThe burden of sad sayings. In that day\\nThou shalt tell all thy days and hours, and tell\\nThy times and ways and words of love, and say\\nHow one was dear and one desirable,\\nAnd sweet was life to hear and sweet to smell,\\nBut now with lights reverse the old hours retire\\nAnd the last hour is shod with fire from hell;\\nThis is the end of every man\\'s desire.\\nThe burden of four seasons. Rain in spring,\\nWhite rain and wind among the tender trees;\\nA summer of green sorrows gathering,\\nRank autumn in a mist of miseries,\\nWith sad face set towards the year, that sees\\nThe charred ash drop out of the dropping pyre,\\nAnd winter wan with many maladies;\\nThis is the end of every man\\'s desire.\\nThe burden of dead faces. Out of sight\\nAnd out of love, beyond the reach of hands,\\nChanged in the changing of the dark and light,\\nThey walk and weep about the barren lands\\nWhere no seed is nor any garner stands,\\nWhere in short breaths the doubtful days respire,\\nAnd time\\'s turned glass lets through the sighing sands;\\nThis is the end of every man\\'s desire.\\nThe burden of much gladness. Life and lust\\nForsake thee, and the face of thy delight;\\nAnd underfoot the heavy hour strews dust,\\nAnd overhead strange weathers burn and bite;\\nAnd where the red was, lo the bloodless white,\\nAnd where the truth was, the likeness of a liar,\\nAnd where the day was, the likeness of the night;\\nThis is the end of every man\\'s desire.\\nL\\'ENVOY\\nPrinces, and ye whom pleasure quickeneth,\\nHeed well this rhyme before your pleasure tire;\\nFor life is sweet, but after life is death.\\nThis is the end of every man\\'s desire.','If down here I chance to die,\\nSolemnly I beg you take\\nAll that is left of \"I\"\\nTo the Hills for old sake\\'s sake,\\nPack me very thoroughly\\nIn the ice that used to slake\\nPegs I drank when I was dry --\\nThis observe for old sake\\'s sake.\\nTo the railway station hie,\\nThere a single ticket take\\nFor Umballa -- goods-train -- I\\nShall not mind delay or shake.\\nI shall rest contentedly\\nSpite of clamor coolies make;\\nThus in state and dignity\\nSend me up for old sake\\'s sake.\\nNext the sleepy Babu wake,\\nBook a Kalka van \"for four.\"\\nFew, I think, will care to make\\nJourneys with me any more\\nAs they used to do of yore.\\nI shall need a \"special\" break --\\nThing I never took before --\\nGet me one for old sake\\'s sake.\\nAfter that -- arrangements make.\\nNo hotel will take me in,\\nAnd a bullock\\'s back would break\\n\\'Neath the teak and leaden skin\\nTonga ropes are frail and thin,\\nOr, did I a back-seat take,\\nIn a tonga I might spin, --\\nDo your best for old sake\\'s sake.\\nAfter that -- your work is done.\\nRecollect a Padre must\\nMourn the dear departed one --\\nThrow the ashes and the dust.\\nDon\\'t go down at once. I trust\\nYou will find excuse to \"snake\\nThree days\\' casual on the bust.\"\\nGet your fun for old sake\\'s sake.\\nI could never stand the Plains.\\nThink of blazing June and May\\nThink of those September rains\\nYearly till the Judgment Day!\\nI should never rest in peace,\\nI should sweat and lie awake.\\nRail me then, on my decease,\\nTo the Hills for old sake\\'s sake.','Kneel down, fair Love, and fill thyself with tears,\\nGirdle thyself with sighing for a girth\\nUpon the sides of mirth,\\nCover thy lips and eyelids, let thine ears\\nBe filled with rumour of people sorrowing;\\nMake thee soft raiment out of woven sighs\\nUpon the flesh to cleave,\\nSet pains therein and many a grievous thing,\\nAnd many sorrows after each his wise\\nFor armlet and for gorget and for sleeve.\\nO Love\\'s lute heard about the lands of death,\\nLeft hanged upon the trees that were therein;\\nO Love and Time and Sin,\\nThree singing mouths that mourn now underbreath,\\nThree lovers, each one evil spoken of;\\nO smitten lips wherethrough this voice of mine\\nCame softer with her praise;\\nAbide a little for our lady\\'s love.\\nThe kisses of her mouth were more than wine,\\nAnd more than peace the passage of her days.\\nO Love, thou knowest if she were good to see.\\nO Time, thou shalt not find in any land\\nTill, cast out of thine hand,\\nThe sunlight and the moonlight fail from thee,\\nAnother woman fashioned like as this.\\nO Sin, thou knowest that all thy shame in her\\nWas made a goodly thing;\\nYea, she caught Shame and shamed him with her kiss,\\nWith her fair kiss, and lips much lovelier\\nThan lips of amorous roses in late spring.\\nBy night there stood over against my bed\\nQueen Venus with a hood striped gold and black,\\nBoth sides drawn fully back\\nFrom brows wherein the sad blood failed of red,\\nAnd temples drained of purple and full of death.\\nHer curled hair had the wave of sea-water\\nAnd the sea\\'s gold in it.\\nHer eyes were as a dove\\'s that sickeneth.\\nStrewn dust of gold she had shed over her,\\nAnd pearl and purple and amber on her feet.\\nUpon her raiment of dyed sendaline\\nWere painted all the secret ways of love\\nAnd covered things thereof,\\nThat hold delight as grape-flowers hold their wine;\\nRed mouths of maidens and red feet of doves,\\nAnd brides that kept within the bride-chamber\\nTheir garment of soft shame,\\nAnd weeping faces of the wearied loves\\nThat swoon in sleep and awake wearier,\\nWith heat of lips and hair shed out like flame.\\nThe tears that through her eyelids fell on me\\nMade mine own bitter where they ran between\\nAs blood had fallen therein,\\nShe saying; Arise, lift up thine eyes and see\\nIf any glad thing be or any good\\nNow the best thing is taken forth of us;\\nEven she to whom all praise\\nWas as one flower in a great multitude,\\nOne glorious flower of many and glorious,\\nOne day found gracious among many days:\\nEven she whose handmaiden was Love--to whom\\nAt kissing times across her stateliest bed\\nKings bowed themselves and shed\\nPale wine, and honey with the honeycomb,\\nAnd spikenard bruised for a burnt-offering;\\nEven she between whose lips the kiss became\\nAs fire and frankincense;\\nWhose hair was as gold raiment on a king,\\nWhose eyes were as the morning purged with flame,\\nWhose eyelids as sweet savour issuing thence.\\nThen I beheld, and lo on the other side\\nMy lady\\'s likeness crowned and robed and dead.\\nSweet still, but now not red,\\nWas the shut mouth whereby men lived and died.\\nAnd sweet, but emptied of the blood\\'s blue shade,\\nThe great curled eyelids that withheld her eyes.\\nAnd sweet, but like spoilt gold,\\nThe weight of colour in her tresses weighed.\\nAnd sweet, but as a vesture with new dyes,\\nThe body that was clothed with love of old.\\nAh! that my tears filled all her woven hair\\nAnd all the hollow bosom of her gown--\\nAh! that my tears ran down\\nEven to the place where many kisses were,\\nEven where her parted breast-flowers have place,\\nEven where they are cloven apart--who knows not this?\\nAh! the flowers cleave apart\\nAnd their sweet fills the tender interspace;\\nAh! the leaves grown thereof were things to kiss\\nEre their fine gold was tarnished at the heart.\\nAh! in the days when God did good to me,\\nEach part about her was a righteous thing;\\nHer mouth an almsgiving,\\nThe glory of her garments charity,\\nThe beauty of her bosom a good deed,\\nIn the good days when God kept sight of us;\\nLove lay upon her eyes,\\nAnd on that hair whereof the world takes heed;\\nAnd all her body was more virtuous\\nThan souls of women fashioned otherwise.\\nNow, ballad, gather poppies in thine hands\\nAnd sheaves of brier and many rusted sheaves\\nRain-rotten in rank lands,\\nWaste marigold and late unhappy leaves\\nAnd grass that fades ere any of it be mown;\\nAnd when thy bosom is filled full thereof\\nSeek out Death\\'s face ere the light altereth,\\nAnd say \"My master that was thrall to Love\\nIs become thrall to Death.\"\\nBow down before him, ballad, sigh and groan.\\nBut make no sojourn in thy outgoing;\\nFor haply it may be\\nThat when thy feet return at evening\\nDeath shall come in with thee.',\"I hid my heart in a nest of roses,\\nOut of the sun's way, hidden apart;\\nIn a softer bed than the soft white snow's is,\\nUnder the roses I hid my heart.\\nWhy would it sleep not? why should it start,\\nWhen never a leaf of the rose-tree stirred?\\nWhat made sleep flutter his wings and part?\\nOnly the song of a secret bird.\\nLie still, I said, for the wind's wing closes,\\nAnd mild leaves muffle the keen sun's dart;\\nLie still, for the wind on the warm seas dozes,\\nAnd the wind is unquieter yet than thou art.\\nDoes a thought in thee still as a thorn's wound smart?\\nDoes the fang still fret thee of hope deferred?\\nWhat bids the lips of thy sleep dispart?\\nOnly the song of a secret bird.\\nThe green land's name that a charm encloses,\\nIt never was writ in the traveller's chart,\\nAnd sweet on its trees as the fruit that grows is,\\nIt never was sold in the merchant's mart.\\nThe swallows of dreams through its dim fields dart,\\nAnd sleep's are the tunes in its tree-tops heard;\\nNo hound's note wakens the wildwood hart,\\nOnly the song of a secret bird.\\nENVOI\\nIn the world of dreams I have chosen my part,\\nTo sleep for a season and hear no word\\nOf true love's truth or of light love's art,\\nOnly the song of a secret bird.\",'The railway rattled and roared and swung\\nWith jolting and bumping trucks.\\nThe sun, like a billiard red ball, hung\\nIn the Western sky: and the tireless tongue\\nOf the wild-eyed man in the corner told\\nThis terrible tale of the days of old,\\nAnd the party that ought to have kept the ducks.\\n\"Well, it ain\\'t all joy bein\\' on the land\\nWith an overdraft that\\'d knock you flat;\\nAnd the rabbits have pretty well took command;\\nBut the hardest thing for a man to stand\\nIs the feller who says \\'Well I told you so!\\nYou should ha\\' done this way, don\\'t you know!\\' --\\nI could lay a bait for a man like that.\\n\"The grasshoppers struck us in ninety-one\\nAnd what they leave -- well, it ain\\'t de luxe.\\nBut a growlin\\' fault-findin\\' son of a gun\\nWho\\'d lent some money to stock our run --\\nI said they\\'d eaten what grass we had --\\nSays he, \\'Your management\\'s very bad;\\nYou had a right to have kept some ducks!\\'\\n\"To have kept some ducks! And the place was white!\\nWherever you went you had to tread\\nOn grasshoppers guzzlin\\' day and night;\\nAnd then with a swoosh they rose in flight,\\nIf you didn\\'t look out for yourself they\\'d fly\\nLike bullets into your open eye\\nAnd knock it out of the back of your head.\\n\"There isn\\'t a turkey or goose or swan,\\nOr a duck that quacks, or a hen that clucks,\\nCan make a difference on a run\\nWhen a grasshopper plague has once begun;\\n\\'If you\\'d finance us,\\' I says, \\'I\\'d buy\\nTen thousand emus and have a try;\\nThe job,\\' I says, \\'is too big for ducks!\\n\"\\'You must fetch a duck when you come to stay;\\nA great big duck -- a Muscovy toff --\\nReady and fit,\\' I says, \\'for the fray;\\nAnd if the grasshoppers come our way\\nYou turn your duck into the lucerne patch,\\nAnd I\\'d be ready to make a match\\nThat the grasshoppers eat his feathers off!\"\\n\"He came to visit us by and by,\\nAnd it just so happened one day in spring\\nA kind of cloud came over the sky --\\nA wall of grasshoppers nine miles high,\\nAnd nine miles thick, and nine hundred wide,\\nFlyin\\' in regiments, side by side,\\nAnd eatin\\' up every living thing.\\n\"All day long, like a shower of rain,\\nYou\\'d hear \\'em smackin\\' against the wall,\\nTap, tap, tap, on the window pane,\\nAnd they\\'d rise and jump at the house again\\nTill their crippled carcasses piled outside.\\nBut what did it matter if thousands died --\\nA million wouldn\\'t be missed at all.\\n\"We were drinkin\\' grasshoppers -- so to speak --\\nTill we skimmed their carcasses off the spring;\\nAnd they fell so thick in the station creek\\nThey choked the waterholes all the week.\\nThere was scarcely room for a trout to rise,\\nAnd they\\'d only take artificial flies --\\nThey got so sick of the real thing.\\n\"An Arctic snowstorm was beat to rags\\nWhen the hoppers rose for their morning flight\\nWith the flapping noise like a million flags:\\nAnd the kitchen chimney was stuffed with bags\\nFor they\\'d fall right into the fire, and fry\\nTill the cook sat down and began to cry --\\nAnd never a duck or fowl in sight.\\n\"We strolled across to the railroad track --\\nUnder a cover beneath some trucks,\\nI sees a feather and hears a quack;\\nI stoops and I pulls the tarpaulin back --\\nEvery duck in the place was there,\\nNo good to them was the open air.\\n\\'Mister,\\' I says, \\'There\\'s your blanky ducks!\\'\"',\"Bird of the bitter bright grey golden morn\\nScarce risen upon the dusk of dolorous years,\\nFirst of us all and sweetest singer born\\nWhose far shrill note the world of new men hears\\nCleave the cold shuddering shade as twilight clears;\\nWhen song new-born put off the old world's attire\\nAnd felt its tune on her changed lips expire,\\nWrit foremost on the roll of them that came\\nFresh girt for service of the latter lyre,\\nVillon, our sad bad glad mad brother's name!\\nAlas the joy, the sorrow, and the scorn,\\nThat clothed thy life with hopes and sins and fears,\\nAnd gave thee stones for bread and tares for corn\\nAnd plume-plucked gaol-birds for thy starveling peers\\nTill death clipt close their flight with shameful shears;\\nTill shifts came short and loves were hard to hire,\\nWhen lilt of song nor twitch of twangling wire\\nCould buy thee bread or kisses; when light fame\\nSpurned like a ball and haled through brake and briar,\\nVillon, our sad bad glad mad brother's name!\\nPoor splendid wings so frayed and soiled and torn!\\nPoor kind wild eyes so dashed with light quick tears!\\nPoor perfect voice, most blithe when most forlorn,\\nThat rings athwart the sea whence no man steers\\nLike joy-bells crossed with death-bells in our ears!\\nWhat far delight has cooled the fierce desire\\nThat like some ravenous bird was strong to tire\\nOn that frail flesh and soul consumed with flame,\\nBut left more sweet than roses to respire,\\nVillon, our sad bad glad mad brother's name?\\nPrince of sweet songs made out of tears and fire,\\nA harlot was thy nurse, a God thy sire;\\nShame soiled thy song, and song assoiled thy shame.\\nBut from thy feet now death has washed the mire,\\nLove reads out first at head of all our quire,\\nVillon, our sad bad glad mad brother's name.\",'The firste stock-father of gentleness,\\nWhat man desireth gentle for to be,\\nMust follow his trace, and all his wittes dress,\\nVirtue to love, and vices for to flee;\\nFor unto virtue longeth dignity,\\nAnd not the reverse, safely dare I deem,\\nAll wear he mitre, crown, or diademe.\\nThis firste stock was full of righteousness,\\nTrue of his word, sober, pious, and free,\\nClean of his ghost, and loved business,\\nAgainst the vice of sloth, in honesty;\\nAnd, but his heir love virtue as did he,\\nHe is not gentle, though he riche seem,\\nAll wear he mitre, crown, or diademe.\\nVice may well be heir to old richess,\\nBut there may no man, as men may well see,\\nBequeath his heir his virtuous nobless;\\nThat is appropried to no degree,\\nBut to the first Father in majesty,\\nWhich makes his heire him that doth him queme,\\nAll wear he mitre, crown, or diademe.',\"'A letter from my love to-day!\\nOh, unexpected, dear appeal!'\\nShe struck a happy tear away,\\nAnd broke the crimson seal.\\n'My love, there is no help on earth,\\nNo help in heaven; the dead-man's bell\\nMust toll our wedding; our first hearth\\nMust be the well-paved floor of hell.'\\nThe colour died from out her face,\\nHer eyes like ghostly candles shone;\\nShe cast dread looks about the place,\\nThen clenched her teeth and read right on.\\n'I may not pass the prison door;\\nHere must I rot from day to day,\\nUnless I wed whom I abhor,\\nMy cousin, Blanche of Valencay.\\n'At midnight with my dagger keen,\\nI'll take my life; it must be so.\\nMeet me in hell to-night, my queen,\\nFor weal and woe.'\\nShe laughed although her face was wan,\\nShe girded on her golden belt,\\nShe took her jewelled ivory fan,\\nAnd at her glowing missal knelt.\\nThen rose, 'And am I mad?' she said:\\nShe broke her fan, her belt untied;\\nWith leather girt herself instead,\\nAnd stuck a dagger at her side.\\nShe waited, shuddering in her room,\\nTill sleep had fallen on all the house.\\nShe never flinched; she faced her doom:\\nThey two must sin to keep their vows.\\nThen out into the night she went,\\nAnd, stooping, crept by hedge and tree;\\nHer rose-bush flung a snare of scent,\\nAnd caught a happy memory.\\nShe fell, and lay a minute's space;\\nShe tore the sward in her distress;\\nThe dewy grass refreshed her face;\\nShe rose and ran with lifted dress.\\nShe started like a morn-caught ghost\\nOnce when the moon came out and stood\\nTo watch; the naked road she crossed,\\nAnd dived into the murmuring wood.\\nThe branches snatched her streaming cloak;\\nA live thing shrieked; she made no stay!\\nShe hurried to the trysting-oakâ€”\\nRight well she knew the way.\\nWithout a pause she bared her breast,\\nAnd drove her dagger home and fell,\\nAnd lay like one that takes her rest,\\nAnd died and wakened up in hell.\\nShe bathed her spirit in the flame,\\nAnd near the centre took her post;\\nFrom all sides to her ears there came\\nThe dreary anguish of the lost.\\nThe devil started at her side,\\nComely, and tall, and black as jet.\\n'I am young Malespina's bride;\\nHas he come hither yet?'\\n'My poppet, welcome to your bed.'\\n'Is Malespina here?'\\n'Not he! To-morrow he must wed\\nHis cousin Blanche, my dear!'\\n'You lie, he died with me to-night.'\\n'Not he! it was a plot' ... 'You lie.'\\n'My dear, I never lie outright.'\\n'We died at midnight, he and I.'\\nThe devil went. Without a groan\\nShe, gathered up in one fierce prayer,\\nTook root in hell's midst all alone,\\nAnd waited for him there.\\nShe dared to make herself at home\\nAmidst the wail, the uneasy stir.\\nThe blood-stained flame that filled the dome,\\nScentless and silent, shrouded her.\\nHow long she stayed I cannot tell;\\nBut when she felt his perfidy,\\nShe marched across the floor of hell;\\nAnd all the damned stood up to see.\\nThe devil stopped her at the brink:\\nShe shook him off; she cried, 'Away!'\\n'My dear, you have gone mad, I think.'\\n'I was betrayed: I will not stay.'\\nAcross the weltering deep she ran;\\nA stranger thing was never seen:\\nThe damned stood silent to a man;\\nThey saw the great gulf set between.\\nTo her it seemed a meadow fair;\\nAnd flowers sprang up about her feet\\nShe entered heaven; she climbed the stair\\nAnd knelt down at the mercy-seat.\\nSeraphs and saints with one great voice\\nWelcomed that soul that knew not fear.\\nAmazed to find it could rejoice,\\nHell raised a hoarse, half-human cheer.\"...]"
            ]
          },
          "execution_count": 9,
          "metadata": {},
          "output_type": "execute_result"
        }
      ],
      "source": [
        "ballads = L(o.open().read() for o in ballads[:50]) # to make things easy we will gather all texts in one numpy array\n",
        "ballads\n"
      ]
    },
    {
      "cell_type": "code",
      "execution_count": 10,
      "metadata": {
        "colab": {
          "base_uri": "https://localhost:8080/"
        },
        "id": "FzyeJPzbsbD0",
        "outputId": "7f079f84-5dd8-4d0a-b5cc-8b5918890d21"
      },
      "outputs": [
        {
          "data": {
            "text/plain": [
              "50"
            ]
          },
          "execution_count": 10,
          "metadata": {},
          "output_type": "execute_result"
        }
      ],
      "source": [
        "def flatten(A):\n",
        "    rt = []\n",
        "    for i in A:\n",
        "        if isinstance(i,list): rt.extend(flatten(i))\n",
        "        else: rt.append(i)\n",
        "    return rt\n",
        "  \n",
        "all_ballads = flatten(ballads)\n",
        "len(all_ballads)"
      ]
    },
    {
      "cell_type": "code",
      "execution_count": 11,
      "metadata": {
        "id": "6Hlq7IOMsbD1"
      },
      "outputs": [],
      "source": [
        "class TransformersTokenizer(Transform):\n",
        "    def __init__(self, tokenizer): self.tokenizer = tokenizer\n",
        "    def encodes(self, x): \n",
        "        toks = self.tokenizer.tokenize(x)\n",
        "        return tensor(self.tokenizer.convert_tokens_to_ids(toks))\n",
        "    def decodes(self, x): return TitledStr(self.tokenizer.decode(x.cpu().numpy()))"
      ]
    },
    {
      "cell_type": "code",
      "execution_count": 12,
      "metadata": {
        "id": "6Rg0y7DSsbD2"
      },
      "outputs": [],
      "source": [
        "splits = [range_of(20), range(50)] # use a 70/30 split\n",
        "\n",
        "tls = TfmdLists(all_ballads, TransformersTokenizer(tokenizer), splits=splits, dl_type=LMDataLoader)"
      ]
    },
    {
      "cell_type": "code",
      "execution_count": 13,
      "metadata": {
        "colab": {
          "base_uri": "https://localhost:8080/"
        },
        "id": "h9SuD_dPsbD2",
        "outputId": "38f72bbd-6e40-4db7-f731-0f961bac23a9"
      },
      "outputs": [
        {
          "name": "stdout",
          "output_type": "stream",
          "text": [
            "The burden of hard hitting. Slug away\n",
            "Like Honus Wagner or like Tyrus Cobb.\n",
            "Else fandom shouteth: \"Who said you could play?\n",
            "Back to the jasper league, you minor slob!\"\n",
            "Swat, hit, connect, line out, goet on the job.\n",
            "Else you shall feel the brunt of fandom's ire\n",
            "Biff, bang it, clout it, hit it on the knob -\n",
            "This is the end of every fan's desire.\n",
            "The burden of good pitching. Curved or straight.\n",
            "Or in or out, or haply up or down,\n",
            "To puzzle him that standeth by the plate,\n",
            "To lessen, so to speak, his bat-renown:\n",
            "Like Christy Mathewson or Miner Brown,\n",
            "So pitch that every man can but admire\n",
            "And offer you the freedom of the town -\n",
            "This is the end of every fan's desire.\n",
            "The burden of loud cheering. O the sounds!\n",
            "The tumult and the shouting from the throats\n",
            "Of forty thousand at the Polo Grounds\n",
            "Sitting, ay, standing sans their hats and coats.\n",
            "A mighty cheer that possibly denotes\n",
            "That Cub or Pirate fat is in the fire;\n",
            "Or, as H. James would say, We've got their goats -\n",
            "This is the end of every fan's desire.\n",
            "The burden of a pennant. O the hope,\n",
            "The tenuous hope, the hope that's half a fear,\n",
            "The lengthy season and the boundless dope,\n",
            "And the bromidic, \"Wait until next year.\"\n",
            "O dread disgrace of trailing in the rear,\n",
            "O Piece of Bunting, flying high and higher\n",
            "That next October it shall flutter here:\n",
            "This is the end of every fan's desire.\n",
            "ENVOY\n",
            "Ah, Fans, let not the Quarry but the Chase\n",
            "Be that to which most fondly we aspire!\n",
            "For us not Stake, but Game; not Goal, but Race -\n",
            "THIS is the end of every fan's desire.\n"
          ]
        }
      ],
      "source": [
        "show_at(tls.train, 0)"
      ]
    },
    {
      "cell_type": "code",
      "execution_count": 14,
      "metadata": {
        "colab": {
          "base_uri": "https://localhost:8080/"
        },
        "id": "zDfmgYHysbD3",
        "outputId": "2e93a70e-1900-4bd4-b276-294f1714a04e"
      },
      "outputs": [
        {
          "name": "stderr",
          "output_type": "stream",
          "text": [
            "Token indices sequence length is longer than the specified maximum sequence length for this model (1214 > 1024). Running this sequence through the model will result in indexing errors\n"
          ]
        }
      ],
      "source": [
        "bs,sl = 4,256\n",
        "dls = tls.dataloaders(bs=bs, seq_len=sl)"
      ]
    },
    {
      "cell_type": "code",
      "execution_count": 15,
      "metadata": {
        "colab": {
          "base_uri": "https://localhost:8080/",
          "height": 789
        },
        "id": "mhhdIQ-ZsbD3",
        "outputId": "441bc32d-4df9-4b7a-e6db-bb10fd4be993"
      },
      "outputs": [
        {
          "data": {
            "text/html": [
              "<table border=\"1\" class=\"dataframe\">\n",
              "  <thead>\n",
              "    <tr style=\"text-align: right;\">\n",
              "      <th></th>\n",
              "      <th>text</th>\n",
              "      <th>text_</th>\n",
              "    </tr>\n",
              "  </thead>\n",
              "  <tbody>\n",
              "    <tr>\n",
              "      <th>0</th>\n",
              "      <td>Bird of the bitter bright grey golden morn\\nScarce risen upon the dusk of dolorous years,\\nFirst of us all and sweetest singer born\\nWhose far shrill note the world of new men hears\\nCleave the cold shuddering shade as twilight clears;\\nWhen song new-born put off the old world's attire\\nAnd felt its tune on her changed lips expire,\\nWrit foremost on the roll of them that came\\nFresh girt for service of the latter lyre,\\nVillon, our sad bad glad mad brother's name!\\nAlas the joy, the sorrow, and the scorn,\\nThat clothed thy life with hopes and sins and fears,\\nAnd gave thee stones for bread and tares for corn\\nAnd plume-plucked gaol-birds for thy starveling peers\\nTill death clipt close their flight with shameful shears;\\nTill shifts came short and loves were hard to hire,\\nWhen lilt of song nor twitch of twangling wire\\nCould buy thee bread or kisses; when light fame\\nSpurned like a ball and haled through brake and briar,\\nVillon, our</td>\n",
              "      <td>of the bitter bright grey golden morn\\nScarce risen upon the dusk of dolorous years,\\nFirst of us all and sweetest singer born\\nWhose far shrill note the world of new men hears\\nCleave the cold shuddering shade as twilight clears;\\nWhen song new-born put off the old world's attire\\nAnd felt its tune on her changed lips expire,\\nWrit foremost on the roll of them that came\\nFresh girt for service of the latter lyre,\\nVillon, our sad bad glad mad brother's name!\\nAlas the joy, the sorrow, and the scorn,\\nThat clothed thy life with hopes and sins and fears,\\nAnd gave thee stones for bread and tares for corn\\nAnd plume-plucked gaol-birds for thy starveling peers\\nTill death clipt close their flight with shameful shears;\\nTill shifts came short and loves were hard to hire,\\nWhen lilt of song nor twitch of twangling wire\\nCould buy thee bread or kisses; when light fame\\nSpurned like a ball and haled through brake and briar,\\nVillon, our</td>\n",
              "    </tr>\n",
              "    <tr>\n",
              "      <th>1</th>\n",
              "      <td>the day was, the likeness of the night;\\nThis is the end of every man's desire.\\nL'ENVOY\\nPrinces, and ye whom pleasure quickeneth,\\nHeed well this rhyme before your pleasure tire;\\nFor life is sweet, but after life is death.\\nThis is the end of every man's desire.Those who sailed at dawn\\nbut will never return\\nleft their trace on a wave--\\na shell fell to the bottom of the sea\\nbeautiful as lips turned to stone\\nthose who walked on a sandy road\\nbut could not reach the shuttered windows\\nthough they already saw the roofs--\\nthey have found shelter in a bell of air\\nbut those who leave behind only\\na room grown cold a few books\\nan empty inkwell white paper--\\nin truth they have not completely died\\ntheir whisper travels through thickets of wallpaper\\ntheir level head still lives in the ceiling\\ntheir paradise was made of air\\nof water lime and earth an angel of wind\\nwill pulverize the body in its hand\\nthey will be\\ncarried over the</td>\n",
              "      <td>day was, the likeness of the night;\\nThis is the end of every man's desire.\\nL'ENVOY\\nPrinces, and ye whom pleasure quickeneth,\\nHeed well this rhyme before your pleasure tire;\\nFor life is sweet, but after life is death.\\nThis is the end of every man's desire.Those who sailed at dawn\\nbut will never return\\nleft their trace on a wave--\\na shell fell to the bottom of the sea\\nbeautiful as lips turned to stone\\nthose who walked on a sandy road\\nbut could not reach the shuttered windows\\nthough they already saw the roofs--\\nthey have found shelter in a bell of air\\nbut those who leave behind only\\na room grown cold a few books\\nan empty inkwell white paper--\\nin truth they have not completely died\\ntheir whisper travels through thickets of wallpaper\\ntheir level head still lives in the ceiling\\ntheir paradise was made of air\\nof water lime and earth an angel of wind\\nwill pulverize the body in its hand\\nthey will be\\ncarried over the meadows</td>\n",
              "    </tr>\n",
              "  </tbody>\n",
              "</table>"
            ],
            "text/plain": [
              "<IPython.core.display.HTML object>"
            ]
          },
          "metadata": {},
          "output_type": "display_data"
        }
      ],
      "source": [
        "dls.show_batch(max_n=2)"
      ]
    },
    {
      "cell_type": "markdown",
      "metadata": {
        "id": "CwoGds8tsbD3"
      },
      "source": [
        "## Fine-tuning the model"
      ]
    },
    {
      "cell_type": "code",
      "execution_count": 16,
      "metadata": {
        "id": "dmUK4HOgsbD4"
      },
      "outputs": [],
      "source": [
        "class DropOutput(Callback):\n",
        "    def after_pred(self): self.learn.pred = self.pred[0]"
      ]
    },
    {
      "cell_type": "code",
      "execution_count": 17,
      "metadata": {
        "id": "BoRIxK4JsbD4"
      },
      "outputs": [],
      "source": [
        "learn = Learner(dls, model, loss_func=CrossEntropyLossFlat(), cbs=[DropOutput], metrics=Perplexity()).to_fp16()"
      ]
    },
    {
      "cell_type": "code",
      "execution_count": 18,
      "metadata": {
        "colab": {
          "base_uri": "https://localhost:8080/",
          "height": 124
        },
        "id": "aBXc2TAGsbD4",
        "outputId": "a5b37d5f-1117-4635-847f-3c7738f85008"
      },
      "outputs": [
        {
          "name": "stderr",
          "output_type": "stream",
          "text": [
            "c:\\Users\\shelk\\AppData\\Local\\Programs\\Python\\Python39\\lib\\site-packages\\torch\\amp\\autocast_mode.py:202: UserWarning: User provided device_type of 'cuda', but CUDA is not available. Disabling\n",
            "  warnings.warn('User provided device_type of \\'cuda\\', but CUDA is not available. Disabling')\n",
            "c:\\Users\\shelk\\AppData\\Local\\Programs\\Python\\Python39\\lib\\site-packages\\torch\\cuda\\amp\\grad_scaler.py:118: UserWarning: torch.cuda.amp.GradScaler is enabled, but CUDA is not available.  Disabling.\n",
            "  warnings.warn(\"torch.cuda.amp.GradScaler is enabled, but CUDA is not available.  Disabling.\")\n"
          ]
        },
        {
          "data": {
            "text/html": [
              "\n",
              "<style>\n",
              "    /* Turns off some styling */\n",
              "    progress {\n",
              "        /* gets rid of default border in Firefox and Opera. */\n",
              "        border: none;\n",
              "        /* Needs to be in here for Safari polyfill so background images work as expected. */\n",
              "        background-size: auto;\n",
              "    }\n",
              "    progress:not([value]), progress:not([value])::-webkit-progress-bar {\n",
              "        background: repeating-linear-gradient(45deg, #7e7e7e, #7e7e7e 10px, #5c5c5c 10px, #5c5c5c 20px);\n",
              "    }\n",
              "    .progress-bar-interrupted, .progress-bar-interrupted::-webkit-progress-bar {\n",
              "        background: #F44336;\n",
              "    }\n",
              "</style>\n"
            ],
            "text/plain": [
              "<IPython.core.display.HTML object>"
            ]
          },
          "metadata": {},
          "output_type": "display_data"
        },
        {
          "data": {
            "text/html": [],
            "text/plain": [
              "<IPython.core.display.HTML object>"
            ]
          },
          "metadata": {},
          "output_type": "display_data"
        },
        {
          "data": {
            "text/plain": [
              "(#2) [4.350619792938232,77.52649688720703]"
            ]
          },
          "execution_count": 18,
          "metadata": {},
          "output_type": "execute_result"
        }
      ],
      "source": [
        "learn.validate()"
      ]
    },
    {
      "cell_type": "code",
      "execution_count": 19,
      "metadata": {
        "colab": {
          "base_uri": "https://localhost:8080/",
          "height": 300
        },
        "id": "ENRv4LFksbD5",
        "outputId": "40f26b99-17fb-4ae7-80bc-7c92432054b2"
      },
      "outputs": [
        {
          "data": {
            "text/html": [
              "\n",
              "<style>\n",
              "    /* Turns off some styling */\n",
              "    progress {\n",
              "        /* gets rid of default border in Firefox and Opera. */\n",
              "        border: none;\n",
              "        /* Needs to be in here for Safari polyfill so background images work as expected. */\n",
              "        background-size: auto;\n",
              "    }\n",
              "    progress:not([value]), progress:not([value])::-webkit-progress-bar {\n",
              "        background: repeating-linear-gradient(45deg, #7e7e7e, #7e7e7e 10px, #5c5c5c 10px, #5c5c5c 20px);\n",
              "    }\n",
              "    .progress-bar-interrupted, .progress-bar-interrupted::-webkit-progress-bar {\n",
              "        background: #F44336;\n",
              "    }\n",
              "</style>\n"
            ],
            "text/plain": [
              "<IPython.core.display.HTML object>"
            ]
          },
          "metadata": {},
          "output_type": "display_data"
        },
        {
          "data": {
            "text/html": [],
            "text/plain": [
              "<IPython.core.display.HTML object>"
            ]
          },
          "metadata": {},
          "output_type": "display_data"
        },
        {
          "data": {
            "text/plain": [
              "SuggestedLRs(valley=0.00015848931798245758)"
            ]
          },
          "execution_count": 19,
          "metadata": {},
          "output_type": "execute_result"
        },
        {
          "data": {
            "image/png": "[encoded data removed]",
            "text/plain": [
              "<Figure size 432x288 with 1 Axes>"
            ]
          },
          "metadata": {
            "needs_background": "light"
          },
          "output_type": "display_data"
        }
      ],
      "source": [
        "learn.lr_find()"
      ]
    },
    {
      "cell_type": "code",
      "execution_count": 20,
      "metadata": {
        "colab": {
          "base_uri": "https://localhost:8080/",
          "height": 81
        },
        "id": "Cn3ZPMeTsbD5",
        "outputId": "c303eb17-93fe-466b-87fd-d534a810ce39"
      },
      "outputs": [
        {
          "data": {
            "text/html": [
              "\n",
              "<style>\n",
              "    /* Turns off some styling */\n",
              "    progress {\n",
              "        /* gets rid of default border in Firefox and Opera. */\n",
              "        border: none;\n",
              "        /* Needs to be in here for Safari polyfill so background images work as expected. */\n",
              "        background-size: auto;\n",
              "    }\n",
              "    progress:not([value]), progress:not([value])::-webkit-progress-bar {\n",
              "        background: repeating-linear-gradient(45deg, #7e7e7e, #7e7e7e 10px, #5c5c5c 10px, #5c5c5c 20px);\n",
              "    }\n",
              "    .progress-bar-interrupted, .progress-bar-interrupted::-webkit-progress-bar {\n",
              "        background: #F44336;\n",
              "    }\n",
              "</style>\n"
            ],
            "text/plain": [
              "<IPython.core.display.HTML object>"
            ]
          },
          "metadata": {},
          "output_type": "display_data"
        },
        {
          "data": {
            "text/html": [
              "<table border=\"1\" class=\"dataframe\">\n",
              "  <thead>\n",
              "    <tr style=\"text-align: left;\">\n",
              "      <th>epoch</th>\n",
              "      <th>train_loss</th>\n",
              "      <th>valid_loss</th>\n",
              "      <th>perplexity</th>\n",
              "      <th>time</th>\n",
              "    </tr>\n",
              "  </thead>\n",
              "  <tbody>\n",
              "    <tr>\n",
              "      <td>0</td>\n",
              "      <td>4.431156</td>\n",
              "      <td>4.214176</td>\n",
              "      <td>67.638420</td>\n",
              "      <td>04:27</td>\n",
              "    </tr>\n",
              "  </tbody>\n",
              "</table>"
            ],
            "text/plain": [
              "<IPython.core.display.HTML object>"
            ]
          },
          "metadata": {},
          "output_type": "display_data"
        }
      ],
      "source": [
        "learn.fit_one_cycle(1, 1e-4)"
      ]
    },
    {
      "cell_type": "markdown",
      "metadata": {
        "id": "csFn3JdssbD6"
      },
      "source": [
        "## Poem Generation"
      ]
    },
    {
      "cell_type": "code",
      "execution_count": 21,
      "metadata": {
        "id": "UkIZgorssbD6"
      },
      "outputs": [],
      "source": [
        "prompt = 'love is ridiculous' # create an initial text prompt to start your generated text\n",
        "prompt_ids = tokenizer.encode(prompt)\n",
        "inp = tensor(prompt_ids)[None]"
      ]
    },
    {
      "cell_type": "code",
      "execution_count": 22,
      "metadata": {
        "colab": {
          "base_uri": "https://localhost:8080/"
        },
        "id": "zQyDjh_LsbD6",
        "outputId": "354a4e54-85b7-4f80-d388-0fed1be0aed6"
      },
      "outputs": [
        {
          "name": "stderr",
          "output_type": "stream",
          "text": [
            "The attention mask and the pad token id were not set. As a consequence, you may observe unexpected behavior. Please pass your input's `attention_mask` to obtain reliable results.\n",
            "Setting `pad_token_id` to `eos_token_id`:50256 for open-end generation.\n"
          ]
        },
        {
          "name": "stdout",
          "output_type": "stream",
          "text": [
            "Output:\n",
            "----------------------------------------------------------------------------------------------------\n",
            "love is ridiculous.\"\n",
            "\n",
            "\"I don't know what you're talking about,\" she said. \"I'm not sure I'm going to be able to keep up with you. I've got a lot of friends, and they're all over the place, so I'll have to take care\n"
          ]
        }
      ],
      "source": [
        "preds = learn.model.generate(inp, max_length=60, num_beams=5, no_repeat_ngram_size=2, early_stopping=True)\n",
        "print(\"Output:\\n\" + 100 * '-')\n",
        "print(tokenizer.decode(preds[0].cpu().numpy(), skip_special_tokens=True))"
      ]
    },
    {
      "cell_type": "code",
      "execution_count": 23,
      "metadata": {
        "colab": {
          "base_uri": "https://localhost:8080/"
        },
        "id": "TeEhWQMnsbD7",
        "outputId": "fac71858-6dc1-47a4-896f-df95029828c2"
      },
      "outputs": [
        {
          "name": "stderr",
          "output_type": "stream",
          "text": [
            "The attention mask and the pad token id were not set. As a consequence, you may observe unexpected behavior. Please pass your input's `attention_mask` to obtain reliable results.\n",
            "Setting `pad_token_id` to `eos_token_id`:50256 for open-end generation.\n"
          ]
        },
        {
          "name": "stdout",
          "output_type": "stream",
          "text": [
            "Output:\n",
            "----------------------------------------------------------------------------------------------------\n",
            "heartbreak.\n",
            "\n",
            "\"I don't know what you're talking about,\" he said, \"but I'm sure you've got something to tell me. I've never seen anything like it before. It's a beautiful thing to see, and it's so beautiful that I can't help but\n"
          ]
        }
      ],
      "source": [
        "prompt = \"heartbreak\"\n",
        "prompt_ids = tokenizer.encode(prompt)\n",
        "inp = tensor(prompt_ids)[None]\n",
        "preds = learn.model.generate(inp, max_length=60, num_beams=5, no_repeat_ngram_size=2, early_stopping=True)\n",
        "print(\"Output:\\n\" + 100 * '-')\n",
        "print(tokenizer.decode(preds[0].cpu().numpy(), skip_special_tokens=True))"
      ]
    },
    {
      "cell_type": "code",
      "execution_count": 2,
      "metadata": {
        "id": "gkpRo_hkIbM3"
      },
      "outputs": [],
      "source": [
        "import pickle"
      ]
    },
    {
      "cell_type": "code",
      "execution_count": 25,
      "metadata": {
        "id": "Zw0DiJ0YIjyL"
      },
      "outputs": [],
      "source": [
        "filename = \"model.sav\"\n",
        "pickle.dump(learn.model, open(filename, \"wb\"))"
      ]
    },
    {
      "cell_type": "code",
      "execution_count": 4,
      "metadata": {
        "colab": {
          "base_uri": "https://localhost:8080/"
        },
        "id": "G7L2SmSMJCQS",
        "outputId": "e493c6a1-a0e6-4147-c36c-0b0067c03658"
      },
      "outputs": [],
      "source": [
        "filename = \"model.sav\"\n",
        "model_saved = pickle.load(open(filename, \"rb\"))\n",
        "# model_saved"
      ]
    },
    {
      "cell_type": "markdown",
      "metadata": {},
      "source": [
        "# use the saved model"
      ]
    },
    {
      "cell_type": "code",
      "execution_count": 14,
      "metadata": {},
      "outputs": [],
      "source": [
        "from fastai.text.all import *\n",
        "from transformers import GPT2LMHeadModel, GPT2TokenizerFast"
      ]
    },
    {
      "cell_type": "code",
      "execution_count": 15,
      "metadata": {},
      "outputs": [],
      "source": [
        "pretrained_weights = 'gpt2'\n",
        "tokenizer = GPT2TokenizerFast.from_pretrained(pretrained_weights)\n",
        "model = GPT2LMHeadModel.from_pretrained(pretrained_weights)"
      ]
    },
    {
      "cell_type": "code",
      "execution_count": 16,
      "metadata": {},
      "outputs": [],
      "source": [
        "path = './poems'"
      ]
    },
    {
      "cell_type": "code",
      "execution_count": 17,
      "metadata": {},
      "outputs": [
        {
          "name": "stdout",
          "output_type": "stream",
          "text": [
            "There are 100 ballads in the dataset\n"
          ]
        }
      ],
      "source": [
        "ballads = get_text_files(path, folders = ['ballad'])\n",
        "print(\"There are\",len(ballads),\"ballads in the dataset\")"
      ]
    },
    {
      "cell_type": "code",
      "execution_count": 18,
      "metadata": {},
      "outputs": [],
      "source": [
        "ballads = L(o.open().read() for o in ballads[:50])"
      ]
    },
    {
      "cell_type": "code",
      "execution_count": 19,
      "metadata": {},
      "outputs": [
        {
          "data": {
            "text/plain": [
              "50"
            ]
          },
          "execution_count": 19,
          "metadata": {},
          "output_type": "execute_result"
        }
      ],
      "source": [
        "def flatten(A):\n",
        "    rt = []\n",
        "    for i in A:\n",
        "        if isinstance(i,list): rt.extend(flatten(i))\n",
        "        else: rt.append(i)\n",
        "    return rt\n",
        "  \n",
        "all_ballads = flatten(ballads)\n",
        "len(all_ballads)"
      ]
    },
    {
      "cell_type": "code",
      "execution_count": 20,
      "metadata": {},
      "outputs": [],
      "source": [
        "class TransformersTokenizer(Transform):\n",
        "    def __init__(self, tokenizer): self.tokenizer = tokenizer\n",
        "    def encodes(self, x): \n",
        "        toks = self.tokenizer.tokenize(x)\n",
        "        return tensor(self.tokenizer.convert_tokens_to_ids(toks))\n",
        "    def decodes(self, x): return TitledStr(self.tokenizer.decode(x.cpu().numpy()))"
      ]
    },
    {
      "cell_type": "code",
      "execution_count": null,
      "metadata": {},
      "outputs": [],
      "source": []
    },
    {
      "cell_type": "code",
      "execution_count": 22,
      "metadata": {},
      "outputs": [
        {
          "name": "stderr",
          "output_type": "stream",
          "text": [
            "The attention mask and the pad token id were not set. As a consequence, you may observe unexpected behavior. Please pass your input's `attention_mask` to obtain reliable results.\n",
            "Setting `pad_token_id` to `eos_token_id`:50256 for open-end generation.\n"
          ]
        },
        {
          "name": "stdout",
          "output_type": "stream",
          "text": [
            "Output:\n",
            "----------------------------------------------------------------------------------------------------\n",
            "roses and thorns.\n",
            "\n",
            "\"I am not afraid,\" said he, \"but I am afraid that I shall not be able to make my way to the place where I came from. I have not the courage to go there, but I must go to my own house, and I\n"
          ]
        }
      ],
      "source": [
        "prompt = \"\"\n",
        "prompt_ids = tokenizer.encode(prompt)\n",
        "inp = tensor(prompt_ids)[None]\n",
        "preds = model_saved.generate(inp, max_length=60, num_beams=5, no_repeat_ngram_size=2, early_stopping=True)\n",
        "print(\"Output:\\n\" + 100 * '-')\n",
        "print(tokenizer.decode(preds[0].cpu().numpy(), skip_special_tokens=True))"
      ]
    },
    {
      "cell_type": "code",
      "execution_count": null,
      "metadata": {},
      "outputs": [],
      "source": []
    }
  ],
  "metadata": {
    "colab": {
      "provenance": []
    },
    "kernelspec": {
      "display_name": "Python 3.9.5 64-bit",
      "language": "python",
      "name": "python3"
    },
    "language_info": {
      "codemirror_mode": {
        "name": "ipython",
        "version": 3
      },
      "file_extension": ".py",
      "mimetype": "text/x-python",
      "name": "python",
      "nbconvert_exporter": "python",
      "pygments_lexer": "ipython3",
      "version": "3.9.5"
    },
    "orig_nbformat": 4,
    "vscode": {
      "interpreter": {
        "hash": "fc9d5badb4efca54614a2b6fa3f07093d42c8c440946190a369e2bde82b5bec5"
      }
    }
  },
  "nbformat": 4,
  "nbformat_minor": 0
}
