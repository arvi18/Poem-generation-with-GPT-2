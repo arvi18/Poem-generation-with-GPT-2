{
  "cells": [
    {
      "cell_type": "code",
      "execution_count": 1,
      "metadata": {
        "colab": {
          "base_uri": "https://localhost:8080/"
        },
        "id": "k0cMp8PSXT0U",
        "outputId": "6ad9ce41-38d2-4f99-df6e-430ebcff0577"
      },
      "outputs": [],
      "source": [
        "# !pip install fastai\n",
        "# !pip install transformers"
      ]
    },
    {
      "cell_type": "code",
      "execution_count": 2,
      "metadata": {
        "id": "2QvWLwJeWuZ8"
      },
      "outputs": [],
      "source": [
        "from fastai.text.all import *\n",
        "from transformers import GPT2LMHeadModel, GPT2TokenizerFast"
      ]
    },
    {
      "cell_type": "code",
      "execution_count": 3,
      "metadata": {
        "id": "ZRI3i9fNWuaC"
      },
      "outputs": [
        {
          "name": "stderr",
          "output_type": "stream",
          "text": [
            "'HTTPSConnectionPool(host='huggingface.co', port=443): Max retries exceeded with url: /gpt2/resolve/main/tokenizer_config.json (Caused by ConnectTimeoutError(<urllib3.connection.VerifiedHTTPSConnection object at 0x000001ECEE3A2C10>, 'Connection to huggingface.co timed out. (connect timeout=10)'))' thrown while requesting HEAD https://huggingface.co/gpt2/resolve/main/tokenizer_config.json\n",
            "'HTTPSConnectionPool(host='huggingface.co', port=443): Max retries exceeded with url: /gpt2/resolve/main/vocab.json (Caused by ConnectTimeoutError(<urllib3.connection.VerifiedHTTPSConnection object at 0x000001ECEE422460>, 'Connection to huggingface.co timed out. (connect timeout=10)'))' thrown while requesting HEAD https://huggingface.co/gpt2/resolve/main/vocab.json\n",
            "'HTTPSConnectionPool(host='huggingface.co', port=443): Max retries exceeded with url: /gpt2/resolve/main/config.json (Caused by ConnectTimeoutError(<urllib3.connection.VerifiedHTTPSConnection object at 0x000001ECEE42F850>, 'Connection to huggingface.co timed out. (connect timeout=10)'))' thrown while requesting HEAD https://huggingface.co/gpt2/resolve/main/config.json\n"
          ]
        }
      ],
      "source": [
        "pretrained_weights = 'gpt2'\n",
        "tokenizer = GPT2TokenizerFast.from_pretrained(pretrained_weights)\n",
        "model = GPT2LMHeadModel.from_pretrained(pretrained_weights)"
      ]
    },
    {
      "cell_type": "code",
      "execution_count": 4,
      "metadata": {
        "colab": {
          "base_uri": "https://localhost:8080/"
        },
        "id": "JiVgeMXWWuaD",
        "outputId": "64aeb3b5-2693-41c4-92e8-7a6242abdfa1"
      },
      "outputs": [],
      "source": [
        "path = './poems'\n",
        "# from google.colab import drive\n",
        "# drive.mount('/content/drive')\n"
      ]
    },
    {
      "cell_type": "code",
      "execution_count": 5,
      "metadata": {
        "colab": {
          "base_uri": "https://localhost:8080/"
        },
        "id": "KzGBsFRFs9r_",
        "outputId": "13ab3420-7f5b-41fc-c0f0-44804cdecb25"
      },
      "outputs": [],
      "source": [
        "# path=\"drive/MyDrive/poem/poems\"\n",
        "# !ls drive/MyDrive/poem/poems"
      ]
    },
    {
      "cell_type": "code",
      "execution_count": 6,
      "metadata": {
        "colab": {
          "base_uri": "https://localhost:8080/"
        },
        "id": "bjrCnweAWuaE",
        "outputId": "467eaf50-ddcb-4af4-db66-bb659781d9df"
      },
      "outputs": [
        {
          "name": "stdout",
          "output_type": "stream",
          "text": [
            "There are 99 poems in the dataset\n"
          ]
        }
      ],
      "source": [
        "poems = get_text_files(path, folders = ['haiku'])\n",
        "print(\"There are\",len(poems),\"poems in the dataset\")"
      ]
    },
    {
      "cell_type": "code",
      "execution_count": 7,
      "metadata": {
        "colab": {
          "base_uri": "https://localhost:8080/"
        },
        "id": "8LmPl11sWuaE",
        "outputId": "07304a35-f438-4140-d915-af7493cc842f"
      },
      "outputs": [
        {
          "name": "stdout",
          "output_type": "stream",
          "text": [
            "There are 99 haiku in the dataset\n"
          ]
        }
      ],
      "source": [
        "haiku = get_text_files(path, folders = ['haiku'])\n",
        "print(\"There are\",len(haiku),\"haiku in the dataset\")"
      ]
    },
    {
      "cell_type": "code",
      "execution_count": 8,
      "metadata": {
        "colab": {
          "base_uri": "https://localhost:8080/"
        },
        "id": "FzS93nTkWuaH",
        "outputId": "c7f3ebc9-fb9e-4966-c59a-9a44d2e939e3"
      },
      "outputs": [
        {
          "name": "stdout",
          "output_type": "stream",
          "text": [
            "haiku one:\n",
            "in criss-crossing shadows\n",
            "of the mountains, we admire\n",
            "sunbathed summits\n",
            "haiku two:\n",
            "in criss crossing shadows\n",
            "we admire sunbathed\n",
            "summits\n",
            "haiku three:\n",
            "tottering ballet dancer\n",
            "the butterfly flutters\n",
            "round a bloom\n",
            "haiku three:\n",
            "dead widow's bamboo bell\n",
            "each chime echoes\n",
            "a memory of her\n",
            "dead widow's bamboo bell\n",
            "each chime numbs\n",
            "the mind\n",
            "dead widow's bamboo bell\n",
            "each chime echoes\n",
            "a lonely year/her lonely years\n",
            "haiku four;\n",
            "dead widow's bamboo bell\n",
            "forelorn the chime\n",
            "has become\n",
            "tanka:\n",
            "dugout river\n",
            "a nude doll stares\n",
            "right through me\n",
            "i discover stephen king and\n",
            "- shiver\n"
          ]
        }
      ],
      "source": [
        "txt = poems[0].open().read(); #read the first file\n",
        "print(txt)"
      ]
    },
    {
      "cell_type": "markdown",
      "metadata": {
        "id": "nnbPDprwsbDw"
      },
      "source": [
        "## Prepare the data"
      ]
    },
    {
      "cell_type": "code",
      "execution_count": 9,
      "metadata": {
        "colab": {
          "base_uri": "https://localhost:8080/"
        },
        "id": "lVyyMkk8sbDz",
        "outputId": "c4db3eb1-da0a-418e-9e74-db74e33492a5"
      },
      "outputs": [
        {
          "data": {
            "text/plain": [
              "(#50) [\"haiku one:\\nin criss-crossing shadows\\nof the mountains, we admire\\nsunbathed summits\\nhaiku two:\\nin criss crossing shadows\\nwe admire sunbathed\\nsummits\\nhaiku three:\\ntottering ballet dancer\\nthe butterfly flutters\\nround a bloom\\nhaiku three:\\ndead widow's bamboo bell\\neach chime echoes\\na memory of her\\ndead widow's bamboo bell\\neach chime numbs\\nthe mind\\ndead widow's bamboo bell\\neach chime echoes\\na lonely year/her lonely years\\nhaiku four;\\ndead widow's bamboo bell\\nforelorn the chime\\nhas become\\ntanka:\\ndugout river\\na nude doll stares\\nright through me\\ni discover stephen king and\\n- shiver\",\"war memorial\\nreccuring, late dad's words\\nthat war is a shame\\npeace march\\ni wear late dad's peace ring\\nfor the first time\\ninspired by\\nrose garden\\nIâ€™ve forgotten which one\\nis called Peace\",'Iâ€™m down: <(hereâ€™s the news\\nJust cause Iâ€™m whiteâ€¦ doesnâ€™t mean\\nI canâ€™t get the blues',\"The harvest soon comes\\nA hawk's eye is needed now\\nTwo watching a front\",\"I'm here\\namongst the huge pile of haiku.\\nCan you see me?\\nI hope you do.\\nI've been buried here\\nand I don't know what to do.\\nEach time I post a poem..\\nit gets buried by haiku! !\",'Waking in the night;\\nthe lamp is low,\\nthe oil freezing.\\nIt has rained enough\\nto turn the stubble on the field\\nblack.\\nWinter rain\\nfalls on the cow-shed;\\na cock crows.\\nThe leeks\\nnewly washed white,-\\nhow cold it is!\\nThe sea darkens;\\nthe voices of the wild ducks\\nare faintly white.\\nIll on a journey;\\nmy dreams wander\\nover a withered moor.','Fields of green waves under\\nThe sky grey, rain on the soft\\nWinds whisper; normality reigns.','Big waves ten foot plus,\\nFear fills my heart - board too small\\nMaybe tomorrow','one haiku a day\\npeace of mind',\"In a week or ten days\\nthe snow and ice\\nwill melt from Cemetery Road.\\nI'm coming! Don't move!\\nOnce again it is April.\\nToday is the day\\nwe would have been married\\ntwenty-six years.\\nI finished with April\\nhalfway through March.\\nYou think that their\\ndying is the worst\\nthing that could happen.\\nThen they stay dead.\\nWill Hall ever write\\nlines that do anything\\nbut whine and complain?\\nIn April the blue\\nmountain revises\\nfrom white to green.\\nThe Boston Red Sox win\\na hundred straight games.\\nThe mouse rips\\nthe throat of the lion\\nand the dead return.\"...]"
            ]
          },
          "execution_count": 9,
          "metadata": {},
          "output_type": "execute_result"
        }
      ],
      "source": [
        "haiku = L(o.open().read() for o in haiku[:50]) # to make things easy we will gather all texts in one numpy array\n",
        "haiku\n"
      ]
    },
    {
      "cell_type": "code",
      "execution_count": 10,
      "metadata": {
        "colab": {
          "base_uri": "https://localhost:8080/"
        },
        "id": "FzyeJPzbsbD0",
        "outputId": "7f079f84-5dd8-4d0a-b5cc-8b5918890d21"
      },
      "outputs": [
        {
          "data": {
            "text/plain": [
              "50"
            ]
          },
          "execution_count": 10,
          "metadata": {},
          "output_type": "execute_result"
        }
      ],
      "source": [
        "def flatten(A):\n",
        "    rt = []\n",
        "    for i in A:\n",
        "        if isinstance(i,list): rt.extend(flatten(i))\n",
        "        else: rt.append(i)\n",
        "    return rt\n",
        "  \n",
        "all_haiku = flatten(haiku)\n",
        "len(all_haiku)"
      ]
    },
    {
      "cell_type": "code",
      "execution_count": 11,
      "metadata": {
        "id": "6Hlq7IOMsbD1"
      },
      "outputs": [],
      "source": [
        "class TransformersTokenizer(Transform):\n",
        "    def __init__(self, tokenizer): self.tokenizer = tokenizer\n",
        "    def encodes(self, x): \n",
        "        toks = self.tokenizer.tokenize(x)\n",
        "        return tensor(self.tokenizer.convert_tokens_to_ids(toks))\n",
        "    def decodes(self, x): return TitledStr(self.tokenizer.decode(x.cpu().numpy()))"
      ]
    },
    {
      "cell_type": "code",
      "execution_count": 12,
      "metadata": {
        "id": "6Rg0y7DSsbD2"
      },
      "outputs": [],
      "source": [
        "splits = [range_of(20), range(50)] # use a 70/30 split\n",
        "\n",
        "tls = TfmdLists(all_haiku, TransformersTokenizer(tokenizer), splits=splits, dl_type=LMDataLoader)"
      ]
    },
    {
      "cell_type": "code",
      "execution_count": 13,
      "metadata": {
        "colab": {
          "base_uri": "https://localhost:8080/"
        },
        "id": "h9SuD_dPsbD2",
        "outputId": "38f72bbd-6e40-4db7-f731-0f961bac23a9"
      },
      "outputs": [
        {
          "name": "stdout",
          "output_type": "stream",
          "text": [
            "haiku one:\n",
            "in criss-crossing shadows\n",
            "of the mountains, we admire\n",
            "sunbathed summits\n",
            "haiku two:\n",
            "in criss crossing shadows\n",
            "we admire sunbathed\n",
            "summits\n",
            "haiku three:\n",
            "tottering ballet dancer\n",
            "the butterfly flutters\n",
            "round a bloom\n",
            "haiku three:\n",
            "dead widow's bamboo bell\n",
            "each chime echoes\n",
            "a memory of her\n",
            "dead widow's bamboo bell\n",
            "each chime numbs\n",
            "the mind\n",
            "dead widow's bamboo bell\n",
            "each chime echoes\n",
            "a lonely year/her lonely years\n",
            "haiku four;\n",
            "dead widow's bamboo bell\n",
            "forelorn the chime\n",
            "has become\n",
            "tanka:\n",
            "dugout river\n",
            "a nude doll stares\n",
            "right through me\n",
            "i discover stephen king and\n",
            "- shiver\n"
          ]
        }
      ],
      "source": [
        "show_at(tls.train, 0)"
      ]
    },
    {
      "cell_type": "code",
      "execution_count": 14,
      "metadata": {
        "colab": {
          "base_uri": "https://localhost:8080/"
        },
        "id": "zDfmgYHysbD3",
        "outputId": "2e93a70e-1900-4bd4-b276-294f1714a04e"
      },
      "outputs": [],
      "source": [
        "bs,sl = 4,256\n",
        "dls = tls.dataloaders(bs=bs, seq_len=sl)"
      ]
    },
    {
      "cell_type": "code",
      "execution_count": 15,
      "metadata": {
        "colab": {
          "base_uri": "https://localhost:8080/",
          "height": 789
        },
        "id": "mhhdIQ-ZsbD3",
        "outputId": "441bc32d-4df9-4b7a-e6db-bb10fd4be993"
      },
      "outputs": [
        {
          "data": {
            "text/html": [
              "<table border=\"1\" class=\"dataframe\">\n",
              "  <thead>\n",
              "    <tr style=\"text-align: right;\">\n",
              "      <th></th>\n",
              "      <th>text</th>\n",
              "      <th>text_</th>\n",
              "    </tr>\n",
              "  </thead>\n",
              "  <tbody>\n",
              "    <tr>\n",
              "      <th>0</th>\n",
              "      <td>In the coolness\\nof the empty sixth-month sky...\\nthe cuckoo's cry.Spring:\\nA hill without a name\\nVeiled in morning mist.\\nThe beginning of autumn:\\nSea and emerald paddy\\nBoth the same green.\\nThe winds of autumn\\nBlow: yet still green\\nThe chestnut husks.\\nA flash of lightning:\\nInto the gloom\\nGoes the heron's cry.\\nTranslated by Geoffrey Bownas And Anthony ThwaiteThe harvest soon comes\\nA hawk's eye is needed now\\nTwo watching a frontspring\\nbird song sweet\\nas the  flowers\\nbeginning of autumn\\na summer  skin\\ni still carry\\nthe winds of autumn\\nslowly the leaves wave\\nthe season goodbye\\na flash of lightning\\nthe breeze steals\\ninto my soulscatter layer\\nby layer, eight-layered\\ncherry blossoms!Big waves ten foot plus,\\nFear fills my heart - board too small\\nMaybe tomorrowone haiku a day\\npeace of mindFields of green waves under\\nThe sky grey, rain on the soft\\nWinds whisper; normality reigns.at the full moon's\\nrising, the silver-</td>\n",
              "      <td>the coolness\\nof the empty sixth-month sky...\\nthe cuckoo's cry.Spring:\\nA hill without a name\\nVeiled in morning mist.\\nThe beginning of autumn:\\nSea and emerald paddy\\nBoth the same green.\\nThe winds of autumn\\nBlow: yet still green\\nThe chestnut husks.\\nA flash of lightning:\\nInto the gloom\\nGoes the heron's cry.\\nTranslated by Geoffrey Bownas And Anthony ThwaiteThe harvest soon comes\\nA hawk's eye is needed now\\nTwo watching a frontspring\\nbird song sweet\\nas the  flowers\\nbeginning of autumn\\na summer  skin\\ni still carry\\nthe winds of autumn\\nslowly the leaves wave\\nthe season goodbye\\na flash of lightning\\nthe breeze steals\\ninto my soulscatter layer\\nby layer, eight-layered\\ncherry blossoms!Big waves ten foot plus,\\nFear fills my heart - board too small\\nMaybe tomorrowone haiku a day\\npeace of mindFields of green waves under\\nThe sky grey, rain on the soft\\nWinds whisper; normality reigns.at the full moon's\\nrising, the silver-pl</td>\n",
              "    </tr>\n",
              "    <tr>\n",
              "      <th>1</th>\n",
              "      <td>iku two:\\nin criss crossing shadows\\nwe admire sunbathed\\nsummits\\nhaiku three:\\ntottering ballet dancer\\nthe butterfly flutters\\nround a bloom\\nhaiku three:\\ndead widow's bamboo bell\\neach chime echoes\\na memory of her\\ndead widow's bamboo bell\\neach chime numbs\\nthe mind\\ndead widow's bamboo bell\\neach chime echoes\\na lonely year/her lonely years\\nhaiku four;\\ndead widow's bamboo bell\\nforelorn the chime\\nhas become\\ntanka:\\ndugout river\\na nude doll stares\\nright through me\\ni discover stephen king and\\n- shiverentangled with\\nthe scattering cherry blossomsâ€”\\nthe wings of birds!Waking in the night;\\nthe lamp is low,\\nthe oil freezing.\\nIt has rained enough\\nto turn the stubble on the field\\nblack.\\nWinter rain\\nfalls on the cow-shed;\\na cock crows.\\nThe leeks\\nnewly washed white,-\\nhow cold it is!\\nThe sea darkens;\\nthe voices of the wild ducks\\nare faintly white.\\nIll on a journey;\\n</td>\n",
              "      <td>two:\\nin criss crossing shadows\\nwe admire sunbathed\\nsummits\\nhaiku three:\\ntottering ballet dancer\\nthe butterfly flutters\\nround a bloom\\nhaiku three:\\ndead widow's bamboo bell\\neach chime echoes\\na memory of her\\ndead widow's bamboo bell\\neach chime numbs\\nthe mind\\ndead widow's bamboo bell\\neach chime echoes\\na lonely year/her lonely years\\nhaiku four;\\ndead widow's bamboo bell\\nforelorn the chime\\nhas become\\ntanka:\\ndugout river\\na nude doll stares\\nright through me\\ni discover stephen king and\\n- shiverentangled with\\nthe scattering cherry blossomsâ€”\\nthe wings of birds!Waking in the night;\\nthe lamp is low,\\nthe oil freezing.\\nIt has rained enough\\nto turn the stubble on the field\\nblack.\\nWinter rain\\nfalls on the cow-shed;\\na cock crows.\\nThe leeks\\nnewly washed white,-\\nhow cold it is!\\nThe sea darkens;\\nthe voices of the wild ducks\\nare faintly white.\\nIll on a journey;\\nmy</td>\n",
              "    </tr>\n",
              "  </tbody>\n",
              "</table>"
            ],
            "text/plain": [
              "<IPython.core.display.HTML object>"
            ]
          },
          "metadata": {},
          "output_type": "display_data"
        }
      ],
      "source": [
        "dls.show_batch(max_n=2)"
      ]
    },
    {
      "cell_type": "markdown",
      "metadata": {
        "id": "CwoGds8tsbD3"
      },
      "source": [
        "## Fine-tuning the model"
      ]
    },
    {
      "cell_type": "code",
      "execution_count": 16,
      "metadata": {
        "id": "dmUK4HOgsbD4"
      },
      "outputs": [],
      "source": [
        "class DropOutput(Callback):\n",
        "    def after_pred(self): self.learn.pred = self.pred[0]"
      ]
    },
    {
      "cell_type": "code",
      "execution_count": 17,
      "metadata": {
        "id": "BoRIxK4JsbD4"
      },
      "outputs": [],
      "source": [
        "learn = Learner(dls, model, loss_func=CrossEntropyLossFlat(), cbs=[DropOutput], metrics=Perplexity()).to_fp16()"
      ]
    },
    {
      "cell_type": "code",
      "execution_count": 18,
      "metadata": {
        "colab": {
          "base_uri": "https://localhost:8080/",
          "height": 124
        },
        "id": "aBXc2TAGsbD4",
        "outputId": "a5b37d5f-1117-4635-847f-3c7738f85008"
      },
      "outputs": [
        {
          "name": "stderr",
          "output_type": "stream",
          "text": [
            "c:\\Users\\shelk\\AppData\\Local\\Programs\\Python\\Python39\\lib\\site-packages\\torch\\amp\\autocast_mode.py:202: UserWarning: User provided device_type of 'cuda', but CUDA is not available. Disabling\n",
            "  warnings.warn('User provided device_type of \\'cuda\\', but CUDA is not available. Disabling')\n",
            "c:\\Users\\shelk\\AppData\\Local\\Programs\\Python\\Python39\\lib\\site-packages\\torch\\cuda\\amp\\grad_scaler.py:118: UserWarning: torch.cuda.amp.GradScaler is enabled, but CUDA is not available.  Disabling.\n",
            "  warnings.warn(\"torch.cuda.amp.GradScaler is enabled, but CUDA is not available.  Disabling.\")\n"
          ]
        },
        {
          "data": {
            "text/html": [
              "\n",
              "<style>\n",
              "    /* Turns off some styling */\n",
              "    progress {\n",
              "        /* gets rid of default border in Firefox and Opera. */\n",
              "        border: none;\n",
              "        /* Needs to be in here for Safari polyfill so background images work as expected. */\n",
              "        background-size: auto;\n",
              "    }\n",
              "    progress:not([value]), progress:not([value])::-webkit-progress-bar {\n",
              "        background: repeating-linear-gradient(45deg, #7e7e7e, #7e7e7e 10px, #5c5c5c 10px, #5c5c5c 20px);\n",
              "    }\n",
              "    .progress-bar-interrupted, .progress-bar-interrupted::-webkit-progress-bar {\n",
              "        background: #F44336;\n",
              "    }\n",
              "</style>\n"
            ],
            "text/plain": [
              "<IPython.core.display.HTML object>"
            ]
          },
          "metadata": {},
          "output_type": "display_data"
        },
        {
          "data": {
            "text/html": [],
            "text/plain": [
              "<IPython.core.display.HTML object>"
            ]
          },
          "metadata": {},
          "output_type": "display_data"
        },
        {
          "data": {
            "text/plain": [
              "(#2) [4.835131645202637,125.85514831542969]"
            ]
          },
          "execution_count": 18,
          "metadata": {},
          "output_type": "execute_result"
        }
      ],
      "source": [
        "learn.validate()"
      ]
    },
    {
      "cell_type": "code",
      "execution_count": 19,
      "metadata": {
        "colab": {
          "base_uri": "https://localhost:8080/",
          "height": 300
        },
        "id": "ENRv4LFksbD5",
        "outputId": "40f26b99-17fb-4ae7-80bc-7c92432054b2"
      },
      "outputs": [
        {
          "data": {
            "text/html": [
              "\n",
              "<style>\n",
              "    /* Turns off some styling */\n",
              "    progress {\n",
              "        /* gets rid of default border in Firefox and Opera. */\n",
              "        border: none;\n",
              "        /* Needs to be in here for Safari polyfill so background images work as expected. */\n",
              "        background-size: auto;\n",
              "    }\n",
              "    progress:not([value]), progress:not([value])::-webkit-progress-bar {\n",
              "        background: repeating-linear-gradient(45deg, #7e7e7e, #7e7e7e 10px, #5c5c5c 10px, #5c5c5c 20px);\n",
              "    }\n",
              "    .progress-bar-interrupted, .progress-bar-interrupted::-webkit-progress-bar {\n",
              "        background: #F44336;\n",
              "    }\n",
              "</style>\n"
            ],
            "text/plain": [
              "<IPython.core.display.HTML object>"
            ]
          },
          "metadata": {},
          "output_type": "display_data"
        },
        {
          "data": {
            "text/html": [],
            "text/plain": [
              "<IPython.core.display.HTML object>"
            ]
          },
          "metadata": {},
          "output_type": "display_data"
        },
        {
          "data": {
            "text/plain": [
              "SuggestedLRs(valley=0.0003311311302240938)"
            ]
          },
          "execution_count": 19,
          "metadata": {},
          "output_type": "execute_result"
        },
        {
          "data": {
            "image/png": "[encoded data removed]",
            "text/plain": [
              "<Figure size 432x288 with 1 Axes>"
            ]
          },
          "metadata": {
            "needs_background": "light"
          },
          "output_type": "display_data"
        }
      ],
      "source": [
        "learn.lr_find()"
      ]
    },
    {
      "cell_type": "code",
      "execution_count": 20,
      "metadata": {
        "colab": {
          "base_uri": "https://localhost:8080/",
          "height": 81
        },
        "id": "Cn3ZPMeTsbD5",
        "outputId": "c303eb17-93fe-466b-87fd-d534a810ce39"
      },
      "outputs": [
        {
          "data": {
            "text/html": [
              "\n",
              "<style>\n",
              "    /* Turns off some styling */\n",
              "    progress {\n",
              "        /* gets rid of default border in Firefox and Opera. */\n",
              "        border: none;\n",
              "        /* Needs to be in here for Safari polyfill so background images work as expected. */\n",
              "        background-size: auto;\n",
              "    }\n",
              "    progress:not([value]), progress:not([value])::-webkit-progress-bar {\n",
              "        background: repeating-linear-gradient(45deg, #7e7e7e, #7e7e7e 10px, #5c5c5c 10px, #5c5c5c 20px);\n",
              "    }\n",
              "    .progress-bar-interrupted, .progress-bar-interrupted::-webkit-progress-bar {\n",
              "        background: #F44336;\n",
              "    }\n",
              "</style>\n"
            ],
            "text/plain": [
              "<IPython.core.display.HTML object>"
            ]
          },
          "metadata": {},
          "output_type": "display_data"
        },
        {
          "data": {
            "text/html": [
              "<table border=\"1\" class=\"dataframe\">\n",
              "  <thead>\n",
              "    <tr style=\"text-align: left;\">\n",
              "      <th>epoch</th>\n",
              "      <th>train_loss</th>\n",
              "      <th>valid_loss</th>\n",
              "      <th>perplexity</th>\n",
              "      <th>time</th>\n",
              "    </tr>\n",
              "  </thead>\n",
              "  <tbody>\n",
              "    <tr>\n",
              "      <td>0</td>\n",
              "      <td>5.350801</td>\n",
              "      <td>4.733028</td>\n",
              "      <td>113.639137</td>\n",
              "      <td>00:28</td>\n",
              "    </tr>\n",
              "  </tbody>\n",
              "</table>"
            ],
            "text/plain": [
              "<IPython.core.display.HTML object>"
            ]
          },
          "metadata": {},
          "output_type": "display_data"
        }
      ],
      "source": [
        "learn.fit_one_cycle(1, 1e-4)"
      ]
    },
    {
      "cell_type": "markdown",
      "metadata": {
        "id": "csFn3JdssbD6"
      },
      "source": [
        "## Poem Generation"
      ]
    },
    {
      "cell_type": "code",
      "execution_count": 21,
      "metadata": {
        "id": "UkIZgorssbD6"
      },
      "outputs": [],
      "source": [
        "prompt = 'love is ridiculous' # create an initial text prompt to start your generated text\n",
        "prompt_ids = tokenizer.encode(prompt)\n",
        "inp = tensor(prompt_ids)[None]"
      ]
    },
    {
      "cell_type": "code",
      "execution_count": 22,
      "metadata": {
        "colab": {
          "base_uri": "https://localhost:8080/"
        },
        "id": "zQyDjh_LsbD6",
        "outputId": "354a4e54-85b7-4f80-d388-0fed1be0aed6"
      },
      "outputs": [
        {
          "name": "stderr",
          "output_type": "stream",
          "text": [
            "The attention mask and the pad token id were not set. As a consequence, you may observe unexpected behavior. Please pass your input's `attention_mask` to obtain reliable results.\n",
            "Setting `pad_token_id` to `eos_token_id`:50256 for open-end generation.\n"
          ]
        },
        {
          "name": "stdout",
          "output_type": "stream",
          "text": [
            "Output:\n",
            "----------------------------------------------------------------------------------------------------\n",
            "love is ridiculous.\"\n",
            "\n",
            "\"I don't know what you're talking about,\" she said. \"I mean, it's not like I'm going to be able to do anything about it. It's like, 'Oh, I can't do this. I've got to get out of\n"
          ]
        }
      ],
      "source": [
        "preds = learn.model.generate(inp, max_length=60, num_beams=5, no_repeat_ngram_size=2, early_stopping=True)\n",
        "print(\"Output:\\n\" + 100 * '-')\n",
        "print(tokenizer.decode(preds[0].cpu().numpy(), skip_special_tokens=True))"
      ]
    },
    {
      "cell_type": "code",
      "execution_count": 23,
      "metadata": {
        "colab": {
          "base_uri": "https://localhost:8080/"
        },
        "id": "TeEhWQMnsbD7",
        "outputId": "fac71858-6dc1-47a4-896f-df95029828c2"
      },
      "outputs": [
        {
          "name": "stderr",
          "output_type": "stream",
          "text": [
            "The attention mask and the pad token id were not set. As a consequence, you may observe unexpected behavior. Please pass your input's `attention_mask` to obtain reliable results.\n",
            "Setting `pad_token_id` to `eos_token_id`:50256 for open-end generation.\n"
          ]
        },
        {
          "name": "stdout",
          "output_type": "stream",
          "text": [
            "Output:\n",
            "----------------------------------------------------------------------------------------------------\n",
            "heartbreak.com\n",
            "\n",
            "http://www.mike.co.uk/en/news/local-news-and-politics/article/20140509/The-Crown-of-the-Mountain-Dwellers.html\n",
            "\n",
            "\n",
            "The Crown of the Mountain D\n"
          ]
        }
      ],
      "source": [
        "prompt = \"\"\n",
        "prompt_ids = tokenizer.encode(prompt)\n",
        "inp = tensor(prompt_ids)[None]\n",
        "preds = learn.model.generate(inp, max_length=60, num_beams=5, no_repeat_ngram_size=2, early_stopping=True)\n",
        "print(\"Output:\\n\" + 100 * '-')\n",
        "print(tokenizer.decode(preds[0].cpu().numpy(), skip_special_tokens=True))"
      ]
    },
    {
      "cell_type": "code",
      "execution_count": 27,
      "metadata": {
        "id": "gkpRo_hkIbM3"
      },
      "outputs": [],
      "source": [
        "import pickle"
      ]
    },
    {
      "cell_type": "code",
      "execution_count": 28,
      "metadata": {
        "id": "Zw0DiJ0YIjyL"
      },
      "outputs": [],
      "source": [
        "filename = \"haiku.sav\"\n",
        "pickle.dump(learn.model, open(filename, \"wb\"))"
      ]
    },
    {
      "cell_type": "code",
      "execution_count": 29,
      "metadata": {
        "colab": {
          "base_uri": "https://localhost:8080/"
        },
        "id": "G7L2SmSMJCQS",
        "outputId": "e493c6a1-a0e6-4147-c36c-0b0067c03658"
      },
      "outputs": [
        {
          "data": {
            "text/plain": [
              "GPT2LMHeadModel(\n",
              "  (transformer): GPT2Model(\n",
              "    (wte): Embedding(50257, 768)\n",
              "    (wpe): Embedding(1024, 768)\n",
              "    (drop): Dropout(p=0.1, inplace=False)\n",
              "    (h): ModuleList(\n",
              "      (0): GPT2Block(\n",
              "        (ln_1): LayerNorm((768,), eps=1e-05, elementwise_affine=True)\n",
              "        (attn): GPT2Attention(\n",
              "          (c_attn): Conv1D()\n",
              "          (c_proj): Conv1D()\n",
              "          (attn_dropout): Dropout(p=0.1, inplace=False)\n",
              "          (resid_dropout): Dropout(p=0.1, inplace=False)\n",
              "        )\n",
              "        (ln_2): LayerNorm((768,), eps=1e-05, elementwise_affine=True)\n",
              "        (mlp): GPT2MLP(\n",
              "          (c_fc): Conv1D()\n",
              "          (c_proj): Conv1D()\n",
              "          (act): NewGELUActivation()\n",
              "          (dropout): Dropout(p=0.1, inplace=False)\n",
              "        )\n",
              "      )\n",
              "      (1): GPT2Block(\n",
              "        (ln_1): LayerNorm((768,), eps=1e-05, elementwise_affine=True)\n",
              "        (attn): GPT2Attention(\n",
              "          (c_attn): Conv1D()\n",
              "          (c_proj): Conv1D()\n",
              "          (attn_dropout): Dropout(p=0.1, inplace=False)\n",
              "          (resid_dropout): Dropout(p=0.1, inplace=False)\n",
              "        )\n",
              "        (ln_2): LayerNorm((768,), eps=1e-05, elementwise_affine=True)\n",
              "        (mlp): GPT2MLP(\n",
              "          (c_fc): Conv1D()\n",
              "          (c_proj): Conv1D()\n",
              "          (act): NewGELUActivation()\n",
              "          (dropout): Dropout(p=0.1, inplace=False)\n",
              "        )\n",
              "      )\n",
              "      (2): GPT2Block(\n",
              "        (ln_1): LayerNorm((768,), eps=1e-05, elementwise_affine=True)\n",
              "        (attn): GPT2Attention(\n",
              "          (c_attn): Conv1D()\n",
              "          (c_proj): Conv1D()\n",
              "          (attn_dropout): Dropout(p=0.1, inplace=False)\n",
              "          (resid_dropout): Dropout(p=0.1, inplace=False)\n",
              "        )\n",
              "        (ln_2): LayerNorm((768,), eps=1e-05, elementwise_affine=True)\n",
              "        (mlp): GPT2MLP(\n",
              "          (c_fc): Conv1D()\n",
              "          (c_proj): Conv1D()\n",
              "          (act): NewGELUActivation()\n",
              "          (dropout): Dropout(p=0.1, inplace=False)\n",
              "        )\n",
              "      )\n",
              "      (3): GPT2Block(\n",
              "        (ln_1): LayerNorm((768,), eps=1e-05, elementwise_affine=True)\n",
              "        (attn): GPT2Attention(\n",
              "          (c_attn): Conv1D()\n",
              "          (c_proj): Conv1D()\n",
              "          (attn_dropout): Dropout(p=0.1, inplace=False)\n",
              "          (resid_dropout): Dropout(p=0.1, inplace=False)\n",
              "        )\n",
              "        (ln_2): LayerNorm((768,), eps=1e-05, elementwise_affine=True)\n",
              "        (mlp): GPT2MLP(\n",
              "          (c_fc): Conv1D()\n",
              "          (c_proj): Conv1D()\n",
              "          (act): NewGELUActivation()\n",
              "          (dropout): Dropout(p=0.1, inplace=False)\n",
              "        )\n",
              "      )\n",
              "      (4): GPT2Block(\n",
              "        (ln_1): LayerNorm((768,), eps=1e-05, elementwise_affine=True)\n",
              "        (attn): GPT2Attention(\n",
              "          (c_attn): Conv1D()\n",
              "          (c_proj): Conv1D()\n",
              "          (attn_dropout): Dropout(p=0.1, inplace=False)\n",
              "          (resid_dropout): Dropout(p=0.1, inplace=False)\n",
              "        )\n",
              "        (ln_2): LayerNorm((768,), eps=1e-05, elementwise_affine=True)\n",
              "        (mlp): GPT2MLP(\n",
              "          (c_fc): Conv1D()\n",
              "          (c_proj): Conv1D()\n",
              "          (act): NewGELUActivation()\n",
              "          (dropout): Dropout(p=0.1, inplace=False)\n",
              "        )\n",
              "      )\n",
              "      (5): GPT2Block(\n",
              "        (ln_1): LayerNorm((768,), eps=1e-05, elementwise_affine=True)\n",
              "        (attn): GPT2Attention(\n",
              "          (c_attn): Conv1D()\n",
              "          (c_proj): Conv1D()\n",
              "          (attn_dropout): Dropout(p=0.1, inplace=False)\n",
              "          (resid_dropout): Dropout(p=0.1, inplace=False)\n",
              "        )\n",
              "        (ln_2): LayerNorm((768,), eps=1e-05, elementwise_affine=True)\n",
              "        (mlp): GPT2MLP(\n",
              "          (c_fc): Conv1D()\n",
              "          (c_proj): Conv1D()\n",
              "          (act): NewGELUActivation()\n",
              "          (dropout): Dropout(p=0.1, inplace=False)\n",
              "        )\n",
              "      )\n",
              "      (6): GPT2Block(\n",
              "        (ln_1): LayerNorm((768,), eps=1e-05, elementwise_affine=True)\n",
              "        (attn): GPT2Attention(\n",
              "          (c_attn): Conv1D()\n",
              "          (c_proj): Conv1D()\n",
              "          (attn_dropout): Dropout(p=0.1, inplace=False)\n",
              "          (resid_dropout): Dropout(p=0.1, inplace=False)\n",
              "        )\n",
              "        (ln_2): LayerNorm((768,), eps=1e-05, elementwise_affine=True)\n",
              "        (mlp): GPT2MLP(\n",
              "          (c_fc): Conv1D()\n",
              "          (c_proj): Conv1D()\n",
              "          (act): NewGELUActivation()\n",
              "          (dropout): Dropout(p=0.1, inplace=False)\n",
              "        )\n",
              "      )\n",
              "      (7): GPT2Block(\n",
              "        (ln_1): LayerNorm((768,), eps=1e-05, elementwise_affine=True)\n",
              "        (attn): GPT2Attention(\n",
              "          (c_attn): Conv1D()\n",
              "          (c_proj): Conv1D()\n",
              "          (attn_dropout): Dropout(p=0.1, inplace=False)\n",
              "          (resid_dropout): Dropout(p=0.1, inplace=False)\n",
              "        )\n",
              "        (ln_2): LayerNorm((768,), eps=1e-05, elementwise_affine=True)\n",
              "        (mlp): GPT2MLP(\n",
              "          (c_fc): Conv1D()\n",
              "          (c_proj): Conv1D()\n",
              "          (act): NewGELUActivation()\n",
              "          (dropout): Dropout(p=0.1, inplace=False)\n",
              "        )\n",
              "      )\n",
              "      (8): GPT2Block(\n",
              "        (ln_1): LayerNorm((768,), eps=1e-05, elementwise_affine=True)\n",
              "        (attn): GPT2Attention(\n",
              "          (c_attn): Conv1D()\n",
              "          (c_proj): Conv1D()\n",
              "          (attn_dropout): Dropout(p=0.1, inplace=False)\n",
              "          (resid_dropout): Dropout(p=0.1, inplace=False)\n",
              "        )\n",
              "        (ln_2): LayerNorm((768,), eps=1e-05, elementwise_affine=True)\n",
              "        (mlp): GPT2MLP(\n",
              "          (c_fc): Conv1D()\n",
              "          (c_proj): Conv1D()\n",
              "          (act): NewGELUActivation()\n",
              "          (dropout): Dropout(p=0.1, inplace=False)\n",
              "        )\n",
              "      )\n",
              "      (9): GPT2Block(\n",
              "        (ln_1): LayerNorm((768,), eps=1e-05, elementwise_affine=True)\n",
              "        (attn): GPT2Attention(\n",
              "          (c_attn): Conv1D()\n",
              "          (c_proj): Conv1D()\n",
              "          (attn_dropout): Dropout(p=0.1, inplace=False)\n",
              "          (resid_dropout): Dropout(p=0.1, inplace=False)\n",
              "        )\n",
              "        (ln_2): LayerNorm((768,), eps=1e-05, elementwise_affine=True)\n",
              "        (mlp): GPT2MLP(\n",
              "          (c_fc): Conv1D()\n",
              "          (c_proj): Conv1D()\n",
              "          (act): NewGELUActivation()\n",
              "          (dropout): Dropout(p=0.1, inplace=False)\n",
              "        )\n",
              "      )\n",
              "      (10): GPT2Block(\n",
              "        (ln_1): LayerNorm((768,), eps=1e-05, elementwise_affine=True)\n",
              "        (attn): GPT2Attention(\n",
              "          (c_attn): Conv1D()\n",
              "          (c_proj): Conv1D()\n",
              "          (attn_dropout): Dropout(p=0.1, inplace=False)\n",
              "          (resid_dropout): Dropout(p=0.1, inplace=False)\n",
              "        )\n",
              "        (ln_2): LayerNorm((768,), eps=1e-05, elementwise_affine=True)\n",
              "        (mlp): GPT2MLP(\n",
              "          (c_fc): Conv1D()\n",
              "          (c_proj): Conv1D()\n",
              "          (act): NewGELUActivation()\n",
              "          (dropout): Dropout(p=0.1, inplace=False)\n",
              "        )\n",
              "      )\n",
              "      (11): GPT2Block(\n",
              "        (ln_1): LayerNorm((768,), eps=1e-05, elementwise_affine=True)\n",
              "        (attn): GPT2Attention(\n",
              "          (c_attn): Conv1D()\n",
              "          (c_proj): Conv1D()\n",
              "          (attn_dropout): Dropout(p=0.1, inplace=False)\n",
              "          (resid_dropout): Dropout(p=0.1, inplace=False)\n",
              "        )\n",
              "        (ln_2): LayerNorm((768,), eps=1e-05, elementwise_affine=True)\n",
              "        (mlp): GPT2MLP(\n",
              "          (c_fc): Conv1D()\n",
              "          (c_proj): Conv1D()\n",
              "          (act): NewGELUActivation()\n",
              "          (dropout): Dropout(p=0.1, inplace=False)\n",
              "        )\n",
              "      )\n",
              "    )\n",
              "    (ln_f): LayerNorm((768,), eps=1e-05, elementwise_affine=True)\n",
              "  )\n",
              "  (lm_head): Linear(in_features=768, out_features=50257, bias=False)\n",
              ")"
            ]
          },
          "execution_count": 29,
          "metadata": {},
          "output_type": "execute_result"
        }
      ],
      "source": [
        "model_saved = pickle.load(open(filename, \"rb\"))\n",
        "model_saved"
      ]
    },
    {
      "cell_type": "code",
      "execution_count": 55,
      "metadata": {},
      "outputs": [
        {
          "name": "stderr",
          "output_type": "stream",
          "text": [
            "The attention mask and the pad token id were not set. As a consequence, you may observe unexpected behavior. Please pass your input's `attention_mask` to obtain reliable results.\n",
            "Setting `pad_token_id` to `eos_token_id`:50256 for open-end generation.\n"
          ]
        },
        {
          "name": "stdout",
          "output_type": "stream",
          "text": [
            "Output:\n",
            "----------------------------------------------------------------------------------------------------\n",
            "I hope she is the one who is going to get the job done.\n",
            "\n",
            "\"I'm not sure if she will be able to do it\n"
          ]
        }
      ],
      "source": [
        "prompt = \"I hope she is the one\"\n",
        "prompt_ids = tokenizer.encode(prompt)\n",
        "inp = tensor(prompt_ids)[None]\n",
        "preds = model_saved.generate(inp, max_length=30, num_beams=5, no_repeat_ngram_size=2, early_stopping=True)\n",
        "print(\"Output:\\n\" + 100 * '-')\n",
        "print(tokenizer.decode(preds[0].cpu().numpy(), skip_special_tokens=True))"
      ]
    },
    {
      "cell_type": "code",
      "execution_count": 62,
      "metadata": {},
      "outputs": [
        {
          "name": "stderr",
          "output_type": "stream",
          "text": [
            "The attention mask and the pad token id were not set. As a consequence, you may observe unexpected behavior. Please pass your input's `attention_mask` to obtain reliable results.\n",
            "Setting `pad_token_id` to `eos_token_id`:50256 for open-end generation.\n"
          ]
        },
        {
          "name": "stdout",
          "output_type": "stream",
          "text": [
            "Output:\n",
            "----------------------------------------------------------------------------------------------------\n",
            "johny johny yes papa johnny yes johnnie johnson johns johnsen johnston johnswain johnweber johnwhitney johnwyck johnye johnyo johnzoe johnze johnzo johnza johnzx johnzy\n"
          ]
        }
      ],
      "source": [
        "prompt = \"johny johny yes papa\"\n",
        "prompt_ids = tokenizer.encode(prompt)\n",
        "inp = tensor(prompt_ids)[None]\n",
        "preds = model_saved.generate(inp, max_length=50, num_beams=5, no_repeat_ngram_size=2, early_stopping=True)\n",
        "print(\"Output:\\n\" + 100 * '-')\n",
        "print(tokenizer.decode(preds[0].cpu().numpy(), skip_special_tokens=True))"
      ]
    },
    {
      "cell_type": "code",
      "execution_count": 61,
      "metadata": {},
      "outputs": [
        {
          "name": "stderr",
          "output_type": "stream",
          "text": [
            "The attention mask and the pad token id were not set. As a consequence, you may observe unexpected behavior. Please pass your input's `attention_mask` to obtain reliable results.\n",
            "Setting `pad_token_id` to `eos_token_id`:50256 for open-end generation.\n"
          ]
        },
        {
          "name": "stdout",
          "output_type": "stream",
          "text": [
            "Output:\n",
            "----------------------------------------------------------------------------------------------------\n",
            "beach.\n",
            "\n",
            "\"I think it's a good idea,\" he said. \"I don't know if I'm going to be able to do it, but I've got a lot of work ahead of me and I think I can do\n"
          ]
        }
      ],
      "source": [
        "prompt = \"beach\"\n",
        "prompt_ids = tokenizer.encode(prompt)\n",
        "inp = tensor(prompt_ids)[None] \n",
        "preds = model_saved.generate(inp, max_length=50, num_beams=5, no_repeat_ngram_size=2, early_stopping=True)\n",
        "print(\"Output:\\n\" + 100 * '-')\n",
        "print(tokenizer.decode(preds[0].cpu().numpy(), skip_special_tokens=True))"
      ]
    },
    {
      "cell_type": "code",
      "execution_count": null,
      "metadata": {},
      "outputs": [],
      "source": []
    }
  ],
  "metadata": {
    "colab": {
      "provenance": []
    },
    "kernelspec": {
      "display_name": "Python 3.9.5 64-bit",
      "language": "python",
      "name": "python3"
    },
    "language_info": {
      "codemirror_mode": {
        "name": "ipython",
        "version": 3
      },
      "file_extension": ".py",
      "mimetype": "text/x-python",
      "name": "python",
      "nbconvert_exporter": "python",
      "pygments_lexer": "ipython3",
      "version": "3.9.5"
    },
    "orig_nbformat": 4,
    "vscode": {
      "interpreter": {
        "hash": "fc9d5badb4efca54614a2b6fa3f07093d42c8c440946190a369e2bde82b5bec5"
      }
    }
  },
  "nbformat": 4,
  "nbformat_minor": 0
}
