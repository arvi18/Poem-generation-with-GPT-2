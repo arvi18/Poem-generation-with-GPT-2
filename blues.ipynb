{
  "cells": [
    {
      "cell_type": "code",
      "execution_count": 32,
      "metadata": {
        "colab": {
          "base_uri": "https://localhost:8080/"
        },
        "id": "k0cMp8PSXT0U",
        "outputId": "6ad9ce41-38d2-4f99-df6e-430ebcff0577"
      },
      "outputs": [],
      "source": [
        "# !pip install fastai\n",
        "# !pip install transformers"
      ]
    },
    {
      "cell_type": "code",
      "execution_count": 33,
      "metadata": {
        "id": "2QvWLwJeWuZ8"
      },
      "outputs": [],
      "source": [
        "from fastai.text.all import *\n",
        "from transformers import GPT2LMHeadModel, GPT2TokenizerFast"
      ]
    },
    {
      "cell_type": "code",
      "execution_count": 34,
      "metadata": {
        "id": "ZRI3i9fNWuaC"
      },
      "outputs": [],
      "source": [
        "pretrained_weights = 'gpt2'\n",
        "tokenizer = GPT2TokenizerFast.from_pretrained(pretrained_weights)\n",
        "model = GPT2LMHeadModel.from_pretrained(pretrained_weights)"
      ]
    },
    {
      "cell_type": "code",
      "execution_count": 35,
      "metadata": {
        "colab": {
          "base_uri": "https://localhost:8080/"
        },
        "id": "JiVgeMXWWuaD",
        "outputId": "64aeb3b5-2693-41c4-92e8-7a6242abdfa1"
      },
      "outputs": [],
      "source": [
        "path = './poems'\n",
        "# from google.colab import drive\n",
        "# drive.mount('/content/drive')\n"
      ]
    },
    {
      "cell_type": "code",
      "execution_count": 36,
      "metadata": {
        "colab": {
          "base_uri": "https://localhost:8080/"
        },
        "id": "KzGBsFRFs9r_",
        "outputId": "13ab3420-7f5b-41fc-c0f0-44804cdecb25"
      },
      "outputs": [],
      "source": [
        "# path=\"drive/MyDrive/poem/poems\"\n",
        "# !ls drive/MyDrive/poem/poems"
      ]
    },
    {
      "cell_type": "code",
      "execution_count": 37,
      "metadata": {
        "colab": {
          "base_uri": "https://localhost:8080/"
        },
        "id": "8LmPl11sWuaE",
        "outputId": "07304a35-f438-4140-d915-af7493cc842f"
      },
      "outputs": [
        {
          "name": "stdout",
          "output_type": "stream",
          "text": [
            "There are 17 blues in the dataset\n"
          ]
        }
      ],
      "source": [
        "blues = get_text_files(path, folders = ['blues-poem'])\n",
        "print(\"There are\",len(blues),\"blues in the dataset\")"
      ]
    },
    {
      "cell_type": "code",
      "execution_count": 38,
      "metadata": {
        "colab": {
          "base_uri": "https://localhost:8080/"
        },
        "id": "FzS93nTkWuaH",
        "outputId": "c7f3ebc9-fb9e-4966-c59a-9a44d2e939e3"
      },
      "outputs": [
        {
          "name": "stdout",
          "output_type": "stream",
          "text": [
            "Seems all my days of late\n",
            "Are spent in doubt\n",
            "Regrettinâ€™ what I done\n",
            "Wonderinâ€™ how to get out\n",
            "Yâ€™see a while ago\n",
            "I made a big mistake\n",
            "Now Iâ€™m wishing itâ€™s a dream\n",
            "Please Lord, let me wake\n",
            "This awful thing I done\n",
            "Was while my beau was gone\n",
            "I started to forget him\n",
            "And had myself some fun\n",
            "I met this hot distraction\n",
            "Things started gettingâ€™ hot\n",
            "Before I cleared my head\n",
            "This man has got me caught\n",
            "So I made my bed with him\n",
            "He rubbed me right and how\n",
            "Until my beau got home\n",
            "What I gonna tell him now?\n",
            "I told my beau the truth\n",
            "He dumped me and fast\n",
            "So I stayed with the hottie\n",
            "But the love didnâ€™t last\n",
            "I was missing my beau\n",
            "The worse things got\n",
            "I tried to get him back\n",
            "But my beau he told me off\n",
            "Seems all my days of late\n",
            "Are spent in doubt\n",
            "Regrettinâ€™ what I done\n",
            "Wonderinâ€™ how to get out.\n"
          ]
        }
      ],
      "source": [
        "txt = blues[0].open().read(); #read the first file\n",
        "print(txt)"
      ]
    },
    {
      "cell_type": "markdown",
      "metadata": {
        "id": "nnbPDprwsbDw"
      },
      "source": [
        "## Prepare the data"
      ]
    },
    {
      "cell_type": "code",
      "execution_count": 39,
      "metadata": {
        "colab": {
          "base_uri": "https://localhost:8080/"
        },
        "id": "lVyyMkk8sbDz",
        "outputId": "c4db3eb1-da0a-418e-9e74-db74e33492a5"
      },
      "outputs": [
        {
          "data": {
            "text/plain": [
              "(#17) ['Seems all my days of late\\nAre spent in doubt\\nRegrettinâ€™ what I done\\nWonderinâ€™ how to get out\\nYâ€™see a while ago\\nI made a big mistake\\nNow Iâ€™m wishing itâ€™s a dream\\nPlease Lord, let me wake\\nThis awful thing I done\\nWas while my beau was gone\\nI started to forget him\\nAnd had myself some fun\\nI met this hot distraction\\nThings started gettingâ€™ hot\\nBefore I cleared my head\\nThis man has got me caught\\nSo I made my bed with him\\nHe rubbed me right and how\\nUntil my beau got home\\nWhat I gonna tell him now?\\nI told my beau the truth\\nHe dumped me and fast\\nSo I stayed with the hottie\\nBut the love didnâ€™t last\\nI was missing my beau\\nThe worse things got\\nI tried to get him back\\nBut my beau he told me off\\nSeems all my days of late\\nAre spent in doubt\\nRegrettinâ€™ what I done\\nWonderinâ€™ how to get out.','Living hard,\\nthe writing comes easy\\nLiving easy,\\nthe writing comes hard\\n(Villanova Pennsylvania: June,2017)','The lad tread the path,\\nThe lad stuck his feet in the mud.\\nHe would kick off the mud,\\nWhen in wealth he takes his bath.\\n18: 03: 27: 21: 07','As I sat as the sea shore,\\nA man of ill state i did saw:\\nHis eyes,\\nHave cries\\nThat nature had lent him.\\nBattered and shartered beside the sea was he,\\nLaying helpless with the last breath\\nStriving to leave for death.\\nTorn attire: as that of a king-\\nThe sea indeed pierce him with her sting.\\nHair washed white in misery,\\nBody baked in sorry.\\nBut, yet despite his state,\\nWith his glottis he did say:\\n\\'Why marvel at me though lad?\\nWhy think over me and thus sad?\\nI\\'m a man of a clan,\\nWith plans in span.\\nThough i may be here in death,\\nBut qoute me, the sea cannot fear my breath!\\nOnly if i\\'ll give in to her alone,\\nThen alone will my life in her flown\".\\n18: 03: 27: 17: 47\\nInspired by Percy\\'s \\'Ozymandias\\'...','He took the path of death,\\nI took the path of my birth.\\nThen, we met at the last exit:\\nThough we struggled, yet none could exit.\\n18: 03: 27: 16: 23',\"Baby, hold my hand..\\nBaby, tightly hold my hand..\\nLet's go on the road, ...\\nI will show you the world..\\nYou will reach exactly what..\\nYou are expecting just, ...\\nStrengthen your ambition..\\nWork hard to get promotion..\\nBe correct in procession, ...\\nKeep the force in heart..\\nAdvance always to be first..\\nLegally try all to set, ...\\nI can see your movement..\\nYou are walking on confident..\\nYou are advancing just, ...\\nCopyright Â© Muzahidul Reza â”‚ 18 December,2017\",\"It's better to let herâ€¦\\nkeep those fancy shoes and bags\\nif she comes to bed each night\\nIt's better to let herâ€¦\\nhave the house worn and ragged\\nif the trim stays fresh and light\\nIt's better to let herâ€¦\\nwhine and constantly bemoan\\nif she smells like summer rain\\nIt's better to let herâ€¦\\ncash the checks you bring home\\nâ€”if she'll whisper those words again\\n(Villanova Pennsylvania: July,2018)\",'Counting spaces between the notes,\\nthe music came alive\\nThe melody deepened, the band on fire,\\nall bees have left the hive\\nBreathing in one fast refrain,\\nmy lungs too full to stop\\nAn Angel melts his pearl baton,\\nthe Sirens blazing hot\\nNew sounds created, harp destroyed,\\nthe clouds all push apart\\nAs heaven waits for one last riff,\\nâ€”to claim my beating heart\\n(Villanova Pennsylvania: February,2018)','\"You must earn the right\\nto sing the blues\\n\"No high school chorus,\\nthe hurt you choose\"\\nTo wrestle with your demons,\\nno safety net in place\\nOften times it\\'s zero-sum,\\na blood trail left to trace\\nYou hum those Irish ditties,\\nor sing like Junior Wells\\nWhen you want those notes to fly,\\nyou usher them through hell\\nIn the end it may not matter,\\nthe ending seldom does\\nWhat counts is how you stitch that wound,\\nâ€”its scar now yours to love\\n(Villanova Pennsylvania: June,2017)',\"I'm the king of the world\\nI'm the king that rules\\nI'm the king of the blues\\nIt's a sin\\nhow good I am\\nit's a sin\\nhow good I play\\nAll the bluesmen love\\nto hear me sing\\neven though I'm better\\nthan all of them\\nI'm the king of the blues\"...]"
            ]
          },
          "execution_count": 39,
          "metadata": {},
          "output_type": "execute_result"
        }
      ],
      "source": [
        "blues = L(o.open().read() for o in blues) # to make things easy we will gather all texts in one numpy array\n",
        "blues\n"
      ]
    },
    {
      "cell_type": "code",
      "execution_count": 40,
      "metadata": {
        "colab": {
          "base_uri": "https://localhost:8080/"
        },
        "id": "FzyeJPzbsbD0",
        "outputId": "7f079f84-5dd8-4d0a-b5cc-8b5918890d21"
      },
      "outputs": [
        {
          "data": {
            "text/plain": [
              "17"
            ]
          },
          "execution_count": 40,
          "metadata": {},
          "output_type": "execute_result"
        }
      ],
      "source": [
        "def flatten(A):\n",
        "    rt = []\n",
        "    for i in A:\n",
        "        if isinstance(i,list): rt.extend(flatten(i))\n",
        "        else: rt.append(i)\n",
        "    return rt\n",
        "  \n",
        "all_blues = flatten(blues)\n",
        "len(all_blues)"
      ]
    },
    {
      "cell_type": "code",
      "execution_count": 41,
      "metadata": {
        "id": "6Hlq7IOMsbD1"
      },
      "outputs": [],
      "source": [
        "class TransformersTokenizer(Transform):\n",
        "    def __init__(self, tokenizer): self.tokenizer = tokenizer\n",
        "    def encodes(self, x): \n",
        "        toks = self.tokenizer.tokenize(x)\n",
        "        return tensor(self.tokenizer.convert_tokens_to_ids(toks))\n",
        "    def decodes(self, x): return TitledStr(self.tokenizer.decode(x.cpu().numpy()))"
      ]
    },
    {
      "cell_type": "code",
      "execution_count": 42,
      "metadata": {
        "id": "6Rg0y7DSsbD2"
      },
      "outputs": [],
      "source": [
        "splits = [range_of(5), range(17)] # use a 70/30 split\n",
        "\n",
        "tls = TfmdLists(all_blues, TransformersTokenizer(tokenizer), splits=splits, dl_type=LMDataLoader)"
      ]
    },
    {
      "cell_type": "code",
      "execution_count": 43,
      "metadata": {
        "colab": {
          "base_uri": "https://localhost:8080/"
        },
        "id": "h9SuD_dPsbD2",
        "outputId": "38f72bbd-6e40-4db7-f731-0f961bac23a9"
      },
      "outputs": [
        {
          "name": "stdout",
          "output_type": "stream",
          "text": [
            "Seems all my days of late\n",
            "Are spent in doubt\n",
            "Regrettinâ€™ what I done\n",
            "Wonderinâ€™ how to get out\n",
            "Yâ€™see a while ago\n",
            "I made a big mistake\n",
            "Now Iâ€™m wishing itâ€™s a dream\n",
            "Please Lord, let me wake\n",
            "This awful thing I done\n",
            "Was while my beau was gone\n",
            "I started to forget him\n",
            "And had myself some fun\n",
            "I met this hot distraction\n",
            "Things started gettingâ€™ hot\n",
            "Before I cleared my head\n",
            "This man has got me caught\n",
            "So I made my bed with him\n",
            "He rubbed me right and how\n",
            "Until my beau got home\n",
            "What I gonna tell him now?\n",
            "I told my beau the truth\n",
            "He dumped me and fast\n",
            "So I stayed with the hottie\n",
            "But the love didnâ€™t last\n",
            "I was missing my beau\n",
            "The worse things got\n",
            "I tried to get him back\n",
            "But my beau he told me off\n",
            "Seems all my days of late\n",
            "Are spent in doubt\n",
            "Regrettinâ€™ what I done\n",
            "Wonderinâ€™ how to get out.\n"
          ]
        }
      ],
      "source": [
        "show_at(tls.train, 0)"
      ]
    },
    {
      "cell_type": "code",
      "execution_count": 44,
      "metadata": {
        "colab": {
          "base_uri": "https://localhost:8080/"
        },
        "id": "zDfmgYHysbD3",
        "outputId": "2e93a70e-1900-4bd4-b276-294f1714a04e"
      },
      "outputs": [],
      "source": [
        "bs,sl = 4,256\n",
        "dls = tls.dataloaders(bs=bs, seq_len=sl)"
      ]
    },
    {
      "cell_type": "code",
      "execution_count": 45,
      "metadata": {
        "colab": {
          "base_uri": "https://localhost:8080/",
          "height": 789
        },
        "id": "mhhdIQ-ZsbD3",
        "outputId": "441bc32d-4df9-4b7a-e6db-bb10fd4be993"
      },
      "outputs": [
        {
          "data": {
            "text/html": [
              "<table border=\"1\" class=\"dataframe\">\n",
              "  <thead>\n",
              "    <tr style=\"text-align: right;\">\n",
              "      <th></th>\n",
              "      <th>text</th>\n",
              "      <th>text_</th>\n",
              "    </tr>\n",
              "  </thead>\n",
              "  <tbody>\n",
              "    <tr>\n",
              "      <th>0</th>\n",
              "      <td>He took the path of death,\\nI took the path of my birth.\\nThen, we met at the last exit:\\nThough we struggled, yet none could exit.\\n18: 03: 27: 16: 23Seems all my days of late\\nAre spent in doubt\\nRegrettinâ€™ what I done\\nWonderinâ€™ how to get out\\nYâ€™see a while ago\\nI made a big mistake\\nNow Iâ€™m wishing itâ€™s a dream\\nPlease Lord, let me wake\\nThis awful thing I done\\nWas while my beau was gone\\nI started to forget him\\nAnd had myself some fun\\nI met</td>\n",
              "      <td>took the path of death,\\nI took the path of my birth.\\nThen, we met at the last exit:\\nThough we struggled, yet none could exit.\\n18: 03: 27: 16: 23Seems all my days of late\\nAre spent in doubt\\nRegrettinâ€™ what I done\\nWonderinâ€™ how to get out\\nYâ€™see a while ago\\nI made a big mistake\\nNow Iâ€™m wishing itâ€™s a dream\\nPlease Lord, let me wake\\nThis awful thing I done\\nWas while my beau was gone\\nI started to forget him\\nAnd had myself some fun\\nI met this</td>\n",
              "    </tr>\n",
              "    <tr>\n",
              "      <th>1</th>\n",
              "      <td>this hot distraction\\nThings started gettingâ€™ hot\\nBefore I cleared my head\\nThis man has got me caught\\nSo I made my bed with him\\nHe rubbed me right and how\\nUntil my beau got home\\nWhat I gonna tell him now?\\nI told my beau the truth\\nHe dumped me and fast\\nSo I stayed with the hottie\\nBut the love didnâ€™t last\\nI was missing my beau\\nThe worse things got\\nI tried to get him back\\nBut my beau he told me off\\nSeems all my days of late\\nAre spent in doubt\\nRegrettinâ€™ what I done\\nWonderinâ€™</td>\n",
              "      <td>hot distraction\\nThings started gettingâ€™ hot\\nBefore I cleared my head\\nThis man has got me caught\\nSo I made my bed with him\\nHe rubbed me right and how\\nUntil my beau got home\\nWhat I gonna tell him now?\\nI told my beau the truth\\nHe dumped me and fast\\nSo I stayed with the hottie\\nBut the love didnâ€™t last\\nI was missing my beau\\nThe worse things got\\nI tried to get him back\\nBut my beau he told me off\\nSeems all my days of late\\nAre spent in doubt\\nRegrettinâ€™ what I done\\nWonderinâ€™ how</td>\n",
              "    </tr>\n",
              "  </tbody>\n",
              "</table>"
            ],
            "text/plain": [
              "<IPython.core.display.HTML object>"
            ]
          },
          "metadata": {},
          "output_type": "display_data"
        }
      ],
      "source": [
        "dls.show_batch(max_n=2)"
      ]
    },
    {
      "cell_type": "markdown",
      "metadata": {
        "id": "CwoGds8tsbD3"
      },
      "source": [
        "## Fine-tuning the model"
      ]
    },
    {
      "cell_type": "code",
      "execution_count": 46,
      "metadata": {
        "id": "dmUK4HOgsbD4"
      },
      "outputs": [],
      "source": [
        "class DropOutput(Callback):\n",
        "    def after_pred(self): self.learn.pred = self.pred[0]"
      ]
    },
    {
      "cell_type": "code",
      "execution_count": 47,
      "metadata": {
        "id": "BoRIxK4JsbD4"
      },
      "outputs": [],
      "source": [
        "learn = Learner(dls, model, loss_func=CrossEntropyLossFlat(), cbs=[DropOutput], metrics=Perplexity()).to_fp16()"
      ]
    },
    {
      "cell_type": "code",
      "execution_count": 48,
      "metadata": {
        "colab": {
          "base_uri": "https://localhost:8080/",
          "height": 124
        },
        "id": "aBXc2TAGsbD4",
        "outputId": "a5b37d5f-1117-4635-847f-3c7738f85008"
      },
      "outputs": [
        {
          "name": "stderr",
          "output_type": "stream",
          "text": [
            "c:\\Users\\shelk\\AppData\\Local\\Programs\\Python\\Python39\\lib\\site-packages\\torch\\amp\\autocast_mode.py:202: UserWarning: User provided device_type of 'cuda', but CUDA is not available. Disabling\n",
            "  warnings.warn('User provided device_type of \\'cuda\\', but CUDA is not available. Disabling')\n",
            "c:\\Users\\shelk\\AppData\\Local\\Programs\\Python\\Python39\\lib\\site-packages\\torch\\cuda\\amp\\grad_scaler.py:118: UserWarning: torch.cuda.amp.GradScaler is enabled, but CUDA is not available.  Disabling.\n",
            "  warnings.warn(\"torch.cuda.amp.GradScaler is enabled, but CUDA is not available.  Disabling.\")\n"
          ]
        },
        {
          "data": {
            "text/html": [
              "\n",
              "<style>\n",
              "    /* Turns off some styling */\n",
              "    progress {\n",
              "        /* gets rid of default border in Firefox and Opera. */\n",
              "        border: none;\n",
              "        /* Needs to be in here for Safari polyfill so background images work as expected. */\n",
              "        background-size: auto;\n",
              "    }\n",
              "    progress:not([value]), progress:not([value])::-webkit-progress-bar {\n",
              "        background: repeating-linear-gradient(45deg, #7e7e7e, #7e7e7e 10px, #5c5c5c 10px, #5c5c5c 20px);\n",
              "    }\n",
              "    .progress-bar-interrupted, .progress-bar-interrupted::-webkit-progress-bar {\n",
              "        background: #F44336;\n",
              "    }\n",
              "</style>\n"
            ],
            "text/plain": [
              "<IPython.core.display.HTML object>"
            ]
          },
          "metadata": {},
          "output_type": "display_data"
        },
        {
          "data": {
            "text/html": [],
            "text/plain": [
              "<IPython.core.display.HTML object>"
            ]
          },
          "metadata": {},
          "output_type": "display_data"
        },
        {
          "data": {
            "text/plain": [
              "(#2) [3.9277729988098145,50.79373550415039]"
            ]
          },
          "execution_count": 48,
          "metadata": {},
          "output_type": "execute_result"
        }
      ],
      "source": [
        "learn.validate()"
      ]
    },
    {
      "cell_type": "code",
      "execution_count": 49,
      "metadata": {
        "colab": {
          "base_uri": "https://localhost:8080/",
          "height": 300
        },
        "id": "ENRv4LFksbD5",
        "outputId": "40f26b99-17fb-4ae7-80bc-7c92432054b2"
      },
      "outputs": [
        {
          "data": {
            "text/html": [
              "\n",
              "<style>\n",
              "    /* Turns off some styling */\n",
              "    progress {\n",
              "        /* gets rid of default border in Firefox and Opera. */\n",
              "        border: none;\n",
              "        /* Needs to be in here for Safari polyfill so background images work as expected. */\n",
              "        background-size: auto;\n",
              "    }\n",
              "    progress:not([value]), progress:not([value])::-webkit-progress-bar {\n",
              "        background: repeating-linear-gradient(45deg, #7e7e7e, #7e7e7e 10px, #5c5c5c 10px, #5c5c5c 20px);\n",
              "    }\n",
              "    .progress-bar-interrupted, .progress-bar-interrupted::-webkit-progress-bar {\n",
              "        background: #F44336;\n",
              "    }\n",
              "</style>\n"
            ],
            "text/plain": [
              "<IPython.core.display.HTML object>"
            ]
          },
          "metadata": {},
          "output_type": "display_data"
        },
        {
          "data": {
            "text/html": [
              "\n",
              "    <div>\n",
              "      <progress value='9' class='' max='101' style='width:300px; height:20px; vertical-align: middle;'></progress>\n",
              "      8.91% [9/101 05:59&lt;1:01:14]\n",
              "    </div>\n",
              "    \n",
              "\n",
              "\n",
              "    <div>\n",
              "      <progress value='0' class='' max='1' style='width:300px; height:20px; vertical-align: middle;'></progress>\n",
              "      0.00% [0/1 00:00&lt;?]\n",
              "    </div>\n",
              "    "
            ],
            "text/plain": [
              "<IPython.core.display.HTML object>"
            ]
          },
          "metadata": {},
          "output_type": "display_data"
        }
      ],
      "source": [
        "learn.lr_find()"
      ]
    },
    {
      "cell_type": "code",
      "execution_count": null,
      "metadata": {
        "colab": {
          "base_uri": "https://localhost:8080/",
          "height": 81
        },
        "id": "Cn3ZPMeTsbD5",
        "outputId": "c303eb17-93fe-466b-87fd-d534a810ce39"
      },
      "outputs": [],
      "source": [
        "learn.fit_one_cycle(1, 1e-4)"
      ]
    },
    {
      "cell_type": "markdown",
      "metadata": {
        "id": "csFn3JdssbD6"
      },
      "source": [
        "## Poem Generation"
      ]
    },
    {
      "cell_type": "code",
      "execution_count": null,
      "metadata": {
        "id": "UkIZgorssbD6"
      },
      "outputs": [],
      "source": [
        "prompt = 'love is ridiculous' # create an initial text prompt to start your generated text\n",
        "prompt_ids = tokenizer.encode(prompt)\n",
        "inp = tensor(prompt_ids)[None]"
      ]
    },
    {
      "cell_type": "code",
      "execution_count": null,
      "metadata": {
        "colab": {
          "base_uri": "https://localhost:8080/"
        },
        "id": "zQyDjh_LsbD6",
        "outputId": "354a4e54-85b7-4f80-d388-0fed1be0aed6"
      },
      "outputs": [],
      "source": [
        "preds = learn.model.generate(inp, max_length=60, num_beams=5, no_repeat_ngram_size=2, early_stopping=True)\n",
        "print(\"Output:\\n\" + 100 * '-')\n",
        "print(tokenizer.decode(preds[0].cpu().numpy(), skip_special_tokens=True))"
      ]
    },
    {
      "cell_type": "code",
      "execution_count": null,
      "metadata": {
        "colab": {
          "base_uri": "https://localhost:8080/"
        },
        "id": "TeEhWQMnsbD7",
        "outputId": "fac71858-6dc1-47a4-896f-df95029828c2"
      },
      "outputs": [],
      "source": [
        "prompt = \"heartbreak\"\n",
        "prompt_ids = tokenizer.encode(prompt)\n",
        "inp = tensor(prompt_ids)[None]\n",
        "preds = learn.model.generate(inp, max_length=60, num_beams=5, no_repeat_ngram_size=2, early_stopping=True)\n",
        "print(\"Output:\\n\" + 100 * '-')\n",
        "print(tokenizer.decode(preds[0].cpu().numpy(), skip_special_tokens=True))"
      ]
    },
    {
      "cell_type": "code",
      "execution_count": null,
      "metadata": {
        "id": "gkpRo_hkIbM3"
      },
      "outputs": [],
      "source": [
        "import pickle"
      ]
    },
    {
      "cell_type": "code",
      "execution_count": null,
      "metadata": {
        "id": "Zw0DiJ0YIjyL"
      },
      "outputs": [],
      "source": [
        "filename = \"model.sav\"\n",
        "pickle.dump(learn.model, open(filename, \"wb\"))"
      ]
    },
    {
      "cell_type": "code",
      "execution_count": null,
      "metadata": {
        "colab": {
          "base_uri": "https://localhost:8080/"
        },
        "id": "G7L2SmSMJCQS",
        "outputId": "e493c6a1-a0e6-4147-c36c-0b0067c03658"
      },
      "outputs": [],
      "source": [
        "filename = \"model.sav\"\n",
        "model_saved = pickle.load(open(filename, \"rb\"))\n",
        "# model_saved"
      ]
    },
    {
      "cell_type": "markdown",
      "metadata": {},
      "source": [
        "# use the saved model"
      ]
    },
    {
      "cell_type": "code",
      "execution_count": null,
      "metadata": {},
      "outputs": [],
      "source": [
        "from fastai.text.all import *\n",
        "from transformers import GPT2LMHeadModel, GPT2TokenizerFast"
      ]
    },
    {
      "cell_type": "code",
      "execution_count": null,
      "metadata": {},
      "outputs": [],
      "source": [
        "pretrained_weights = 'gpt2'\n",
        "tokenizer = GPT2TokenizerFast.from_pretrained(pretrained_weights)\n",
        "model = GPT2LMHeadModel.from_pretrained(pretrained_weights)"
      ]
    },
    {
      "cell_type": "code",
      "execution_count": null,
      "metadata": {},
      "outputs": [],
      "source": [
        "path = './poems'"
      ]
    },
    {
      "cell_type": "code",
      "execution_count": null,
      "metadata": {},
      "outputs": [],
      "source": [
        "blues = get_text_files(path, folders = ['ballad'])\n",
        "print(\"There are\",len(blues),\"blues in the dataset\")"
      ]
    },
    {
      "cell_type": "code",
      "execution_count": null,
      "metadata": {},
      "outputs": [],
      "source": [
        "blues = L(o.open().read() for o in blues[:50])"
      ]
    },
    {
      "cell_type": "code",
      "execution_count": null,
      "metadata": {},
      "outputs": [],
      "source": [
        "def flatten(A):\n",
        "    rt = []\n",
        "    for i in A:\n",
        "        if isinstance(i,list): rt.extend(flatten(i))\n",
        "        else: rt.append(i)\n",
        "    return rt\n",
        "  \n",
        "all_blues = flatten(blues)\n",
        "len(all_blues)"
      ]
    },
    {
      "cell_type": "code",
      "execution_count": null,
      "metadata": {},
      "outputs": [],
      "source": [
        "class TransformersTokenizer(Transform):\n",
        "    def __init__(self, tokenizer): self.tokenizer = tokenizer\n",
        "    def encodes(self, x): \n",
        "        toks = self.tokenizer.tokenize(x)\n",
        "        return tensor(self.tokenizer.convert_tokens_to_ids(toks))\n",
        "    def decodes(self, x): return TitledStr(self.tokenizer.decode(x.cpu().numpy()))"
      ]
    },
    {
      "cell_type": "code",
      "execution_count": null,
      "metadata": {},
      "outputs": [],
      "source": []
    },
    {
      "cell_type": "code",
      "execution_count": null,
      "metadata": {},
      "outputs": [],
      "source": [
        "prompt = \"\"\n",
        "prompt_ids = tokenizer.encode(prompt)\n",
        "inp = tensor(prompt_ids)[None]\n",
        "preds = model_saved.generate(inp, max_length=60, num_beams=5, no_repeat_ngram_size=2, early_stopping=True)\n",
        "print(\"Output:\\n\" + 100 * '-')\n",
        "print(tokenizer.decode(preds[0].cpu().numpy(), skip_special_tokens=True))"
      ]
    },
    {
      "cell_type": "code",
      "execution_count": null,
      "metadata": {},
      "outputs": [],
      "source": []
    }
  ],
  "metadata": {
    "colab": {
      "provenance": []
    },
    "kernelspec": {
      "display_name": "Python 3.9.5 64-bit",
      "language": "python",
      "name": "python3"
    },
    "language_info": {
      "codemirror_mode": {
        "name": "ipython",
        "version": 3
      },
      "file_extension": ".py",
      "mimetype": "text/x-python",
      "name": "python",
      "nbconvert_exporter": "python",
      "pygments_lexer": "ipython3",
      "version": "3.9.5"
    },
    "orig_nbformat": 4,
    "vscode": {
      "interpreter": {
        "hash": "fc9d5badb4efca54614a2b6fa3f07093d42c8c440946190a369e2bde82b5bec5"
      }
    }
  },
  "nbformat": 4,
  "nbformat_minor": 0
}
